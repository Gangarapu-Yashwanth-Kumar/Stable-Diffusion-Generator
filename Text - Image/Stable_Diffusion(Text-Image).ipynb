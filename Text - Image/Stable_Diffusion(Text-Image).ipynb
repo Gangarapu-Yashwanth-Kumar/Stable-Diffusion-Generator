{
 "cells": [
  {
   "cell_type": "markdown",
   "metadata": {
    "id": "bZp3wPCTXMSs"
   },
   "source": [
    "📝 Title & Introduction\n",
    "\n",
    "# 🖼️ Text-to-Image Generation using Stable Diffusion XL (SDXL)\n",
    "\n",
    "This notebook demonstrates how to use the **Stable Diffusion XL model** from Hugging Face's 🤗 `diffusers` library to generate high-quality images from text prompts. The final result is deployed using a **Gradio web UI** for simple interaction.\n",
    "\n",
    "We'll be using:\n",
    "- `StableDiffusionXLPipeline` from `diffusers`\n",
    "- `EulerDiscreteScheduler` for stable image generation\n",
    "- `Gradio` for building a lightweight user interface\n"
   ]
  },
  {
   "cell_type": "markdown",
   "metadata": {
    "id": "ZTViHziNXoxA"
   },
   "source": [
    "📝 Importing Required Libraries\n",
    "\n",
    "## 📦 Step 1: Import Required Libraries\n",
    "\n",
    "We import essential packages to:\n",
    "- Load and run the Stable Diffusion pipeline (`diffusers`)\n",
    "- Interface with PyTorch (`torch`)\n",
    "- Build a user-friendly web interface (`gradio`)\n"
   ]
  },
  {
   "cell_type": "code",
   "execution_count": null,
   "metadata": {
    "colab": {
     "base_uri": "https://localhost:8080/"
    },
    "executionInfo": {
     "elapsed": 14268,
     "status": "ok",
     "timestamp": 1753504618308,
     "user": {
      "displayName": "Yashwanth Kumar",
      "userId": "04073106945765763472"
     },
     "user_tz": -330
    },
    "id": "FXr-NfNaxKzm",
    "outputId": "6df942cc-f494-477e-8205-a33e59729b7f"
   },
   "outputs": [
    {
     "name": "stdout",
     "output_type": "stream",
     "text": [
      "Requirement already satisfied: diffusers in /usr/local/lib/python3.11/dist-packages (0.34.0)\n",
      "Requirement already satisfied: importlib_metadata in /usr/local/lib/python3.11/dist-packages (from diffusers) (8.7.0)\n",
      "Requirement already satisfied: filelock in /usr/local/lib/python3.11/dist-packages (from diffusers) (3.18.0)\n",
      "Requirement already satisfied: huggingface-hub>=0.27.0 in /usr/local/lib/python3.11/dist-packages (from diffusers) (0.33.4)\n",
      "Requirement already satisfied: numpy in /usr/local/lib/python3.11/dist-packages (from diffusers) (2.0.2)\n",
      "Requirement already satisfied: regex!=2019.12.17 in /usr/local/lib/python3.11/dist-packages (from diffusers) (2024.11.6)\n",
      "Requirement already satisfied: requests in /usr/local/lib/python3.11/dist-packages (from diffusers) (2.32.3)\n",
      "Requirement already satisfied: safetensors>=0.3.1 in /usr/local/lib/python3.11/dist-packages (from diffusers) (0.5.3)\n",
      "Requirement already satisfied: Pillow in /usr/local/lib/python3.11/dist-packages (from diffusers) (11.3.0)\n",
      "Requirement already satisfied: fsspec>=2023.5.0 in /usr/local/lib/python3.11/dist-packages (from huggingface-hub>=0.27.0->diffusers) (2025.3.0)\n",
      "Requirement already satisfied: packaging>=20.9 in /usr/local/lib/python3.11/dist-packages (from huggingface-hub>=0.27.0->diffusers) (25.0)\n",
      "Requirement already satisfied: pyyaml>=5.1 in /usr/local/lib/python3.11/dist-packages (from huggingface-hub>=0.27.0->diffusers) (6.0.2)\n",
      "Requirement already satisfied: tqdm>=4.42.1 in /usr/local/lib/python3.11/dist-packages (from huggingface-hub>=0.27.0->diffusers) (4.67.1)\n",
      "Requirement already satisfied: typing-extensions>=3.7.4.3 in /usr/local/lib/python3.11/dist-packages (from huggingface-hub>=0.27.0->diffusers) (4.14.1)\n",
      "Requirement already satisfied: hf-xet<2.0.0,>=1.1.2 in /usr/local/lib/python3.11/dist-packages (from huggingface-hub>=0.27.0->diffusers) (1.1.5)\n",
      "Requirement already satisfied: zipp>=3.20 in /usr/local/lib/python3.11/dist-packages (from importlib_metadata->diffusers) (3.23.0)\n",
      "Requirement already satisfied: charset-normalizer<4,>=2 in /usr/local/lib/python3.11/dist-packages (from requests->diffusers) (3.4.2)\n",
      "Requirement already satisfied: idna<4,>=2.5 in /usr/local/lib/python3.11/dist-packages (from requests->diffusers) (3.10)\n",
      "Requirement already satisfied: urllib3<3,>=1.21.1 in /usr/local/lib/python3.11/dist-packages (from requests->diffusers) (2.5.0)\n",
      "Requirement already satisfied: certifi>=2017.4.17 in /usr/local/lib/python3.11/dist-packages (from requests->diffusers) (2025.7.14)\n"
     ]
    }
   ],
   "source": [
    "!pip install diffusers --upgrade"
   ]
  },
  {
   "cell_type": "code",
   "execution_count": null,
   "metadata": {
    "colab": {
     "base_uri": "https://localhost:8080/"
    },
    "executionInfo": {
     "elapsed": 104677,
     "status": "ok",
     "timestamp": 1753504727584,
     "user": {
      "displayName": "Yashwanth Kumar",
      "userId": "04073106945765763472"
     },
     "user_tz": -330
    },
    "id": "m45ppa6vyHMS",
    "outputId": "f281d31d-52cc-4ce0-88f2-de3925454b41"
   },
   "outputs": [
    {
     "name": "stdout",
     "output_type": "stream",
     "text": [
      "Collecting invisible_watermark\n",
      "  Downloading invisible_watermark-0.2.0-py3-none-any.whl.metadata (8.2 kB)\n",
      "Requirement already satisfied: transformers in /usr/local/lib/python3.11/dist-packages (4.53.3)\n",
      "Requirement already satisfied: accelerate in /usr/local/lib/python3.11/dist-packages (1.9.0)\n",
      "Requirement already satisfied: safetensors in /usr/local/lib/python3.11/dist-packages (0.5.3)\n",
      "Requirement already satisfied: Pillow>=6.0.0 in /usr/local/lib/python3.11/dist-packages (from invisible_watermark) (11.3.0)\n",
      "Requirement already satisfied: PyWavelets>=1.1.1 in /usr/local/lib/python3.11/dist-packages (from invisible_watermark) (1.8.0)\n",
      "Requirement already satisfied: numpy>=1.17.0 in /usr/local/lib/python3.11/dist-packages (from invisible_watermark) (2.0.2)\n",
      "Requirement already satisfied: opencv-python>=4.1.0.25 in /usr/local/lib/python3.11/dist-packages (from invisible_watermark) (4.12.0.88)\n",
      "Requirement already satisfied: torch in /usr/local/lib/python3.11/dist-packages (from invisible_watermark) (2.6.0+cu124)\n",
      "Requirement already satisfied: filelock in /usr/local/lib/python3.11/dist-packages (from transformers) (3.18.0)\n",
      "Requirement already satisfied: huggingface-hub<1.0,>=0.30.0 in /usr/local/lib/python3.11/dist-packages (from transformers) (0.33.4)\n",
      "Requirement already satisfied: packaging>=20.0 in /usr/local/lib/python3.11/dist-packages (from transformers) (25.0)\n",
      "Requirement already satisfied: pyyaml>=5.1 in /usr/local/lib/python3.11/dist-packages (from transformers) (6.0.2)\n",
      "Requirement already satisfied: regex!=2019.12.17 in /usr/local/lib/python3.11/dist-packages (from transformers) (2024.11.6)\n",
      "Requirement already satisfied: requests in /usr/local/lib/python3.11/dist-packages (from transformers) (2.32.3)\n",
      "Requirement already satisfied: tokenizers<0.22,>=0.21 in /usr/local/lib/python3.11/dist-packages (from transformers) (0.21.2)\n",
      "Requirement already satisfied: tqdm>=4.27 in /usr/local/lib/python3.11/dist-packages (from transformers) (4.67.1)\n",
      "Requirement already satisfied: psutil in /usr/local/lib/python3.11/dist-packages (from accelerate) (5.9.5)\n",
      "Requirement already satisfied: fsspec>=2023.5.0 in /usr/local/lib/python3.11/dist-packages (from huggingface-hub<1.0,>=0.30.0->transformers) (2025.3.0)\n",
      "Requirement already satisfied: typing-extensions>=3.7.4.3 in /usr/local/lib/python3.11/dist-packages (from huggingface-hub<1.0,>=0.30.0->transformers) (4.14.1)\n",
      "Requirement already satisfied: hf-xet<2.0.0,>=1.1.2 in /usr/local/lib/python3.11/dist-packages (from huggingface-hub<1.0,>=0.30.0->transformers) (1.1.5)\n",
      "Requirement already satisfied: networkx in /usr/local/lib/python3.11/dist-packages (from torch->invisible_watermark) (3.5)\n",
      "Requirement already satisfied: jinja2 in /usr/local/lib/python3.11/dist-packages (from torch->invisible_watermark) (3.1.6)\n",
      "Collecting nvidia-cuda-nvrtc-cu12==12.4.127 (from torch->invisible_watermark)\n",
      "  Downloading nvidia_cuda_nvrtc_cu12-12.4.127-py3-none-manylinux2014_x86_64.whl.metadata (1.5 kB)\n",
      "Collecting nvidia-cuda-runtime-cu12==12.4.127 (from torch->invisible_watermark)\n",
      "  Downloading nvidia_cuda_runtime_cu12-12.4.127-py3-none-manylinux2014_x86_64.whl.metadata (1.5 kB)\n",
      "Collecting nvidia-cuda-cupti-cu12==12.4.127 (from torch->invisible_watermark)\n",
      "  Downloading nvidia_cuda_cupti_cu12-12.4.127-py3-none-manylinux2014_x86_64.whl.metadata (1.6 kB)\n",
      "Collecting nvidia-cudnn-cu12==9.1.0.70 (from torch->invisible_watermark)\n",
      "  Downloading nvidia_cudnn_cu12-9.1.0.70-py3-none-manylinux2014_x86_64.whl.metadata (1.6 kB)\n",
      "Collecting nvidia-cublas-cu12==12.4.5.8 (from torch->invisible_watermark)\n",
      "  Downloading nvidia_cublas_cu12-12.4.5.8-py3-none-manylinux2014_x86_64.whl.metadata (1.5 kB)\n",
      "Collecting nvidia-cufft-cu12==11.2.1.3 (from torch->invisible_watermark)\n",
      "  Downloading nvidia_cufft_cu12-11.2.1.3-py3-none-manylinux2014_x86_64.whl.metadata (1.5 kB)\n",
      "Collecting nvidia-curand-cu12==10.3.5.147 (from torch->invisible_watermark)\n",
      "  Downloading nvidia_curand_cu12-10.3.5.147-py3-none-manylinux2014_x86_64.whl.metadata (1.5 kB)\n",
      "Collecting nvidia-cusolver-cu12==11.6.1.9 (from torch->invisible_watermark)\n",
      "  Downloading nvidia_cusolver_cu12-11.6.1.9-py3-none-manylinux2014_x86_64.whl.metadata (1.6 kB)\n",
      "Collecting nvidia-cusparse-cu12==12.3.1.170 (from torch->invisible_watermark)\n",
      "  Downloading nvidia_cusparse_cu12-12.3.1.170-py3-none-manylinux2014_x86_64.whl.metadata (1.6 kB)\n",
      "Requirement already satisfied: nvidia-cusparselt-cu12==0.6.2 in /usr/local/lib/python3.11/dist-packages (from torch->invisible_watermark) (0.6.2)\n",
      "Requirement already satisfied: nvidia-nccl-cu12==2.21.5 in /usr/local/lib/python3.11/dist-packages (from torch->invisible_watermark) (2.21.5)\n",
      "Requirement already satisfied: nvidia-nvtx-cu12==12.4.127 in /usr/local/lib/python3.11/dist-packages (from torch->invisible_watermark) (12.4.127)\n",
      "Collecting nvidia-nvjitlink-cu12==12.4.127 (from torch->invisible_watermark)\n",
      "  Downloading nvidia_nvjitlink_cu12-12.4.127-py3-none-manylinux2014_x86_64.whl.metadata (1.5 kB)\n",
      "Requirement already satisfied: triton==3.2.0 in /usr/local/lib/python3.11/dist-packages (from torch->invisible_watermark) (3.2.0)\n",
      "Requirement already satisfied: sympy==1.13.1 in /usr/local/lib/python3.11/dist-packages (from torch->invisible_watermark) (1.13.1)\n",
      "Requirement already satisfied: mpmath<1.4,>=1.1.0 in /usr/local/lib/python3.11/dist-packages (from sympy==1.13.1->torch->invisible_watermark) (1.3.0)\n",
      "Requirement already satisfied: charset-normalizer<4,>=2 in /usr/local/lib/python3.11/dist-packages (from requests->transformers) (3.4.2)\n",
      "Requirement already satisfied: idna<4,>=2.5 in /usr/local/lib/python3.11/dist-packages (from requests->transformers) (3.10)\n",
      "Requirement already satisfied: urllib3<3,>=1.21.1 in /usr/local/lib/python3.11/dist-packages (from requests->transformers) (2.5.0)\n",
      "Requirement already satisfied: certifi>=2017.4.17 in /usr/local/lib/python3.11/dist-packages (from requests->transformers) (2025.7.14)\n",
      "Requirement already satisfied: MarkupSafe>=2.0 in /usr/local/lib/python3.11/dist-packages (from jinja2->torch->invisible_watermark) (3.0.2)\n",
      "Downloading invisible_watermark-0.2.0-py3-none-any.whl (1.6 MB)\n",
      "\u001b[2K   \u001b[90m━━━━━━━━━━━━━━━━━━━━━━━━━━━━━━━━━━━━━━━━\u001b[0m \u001b[32m1.6/1.6 MB\u001b[0m \u001b[31m23.9 MB/s\u001b[0m eta \u001b[36m0:00:00\u001b[0m\n",
      "\u001b[?25hDownloading nvidia_cublas_cu12-12.4.5.8-py3-none-manylinux2014_x86_64.whl (363.4 MB)\n",
      "\u001b[2K   \u001b[90m━━━━━━━━━━━━━━━━━━━━━━━━━━━━━━━━━━━━━━━━\u001b[0m \u001b[32m363.4/363.4 MB\u001b[0m \u001b[31m4.7 MB/s\u001b[0m eta \u001b[36m0:00:00\u001b[0m\n",
      "\u001b[?25hDownloading nvidia_cuda_cupti_cu12-12.4.127-py3-none-manylinux2014_x86_64.whl (13.8 MB)\n",
      "\u001b[2K   \u001b[90m━━━━━━━━━━━━━━━━━━━━━━━━━━━━━━━━━━━━━━━━\u001b[0m \u001b[32m13.8/13.8 MB\u001b[0m \u001b[31m49.9 MB/s\u001b[0m eta \u001b[36m0:00:00\u001b[0m\n",
      "\u001b[?25hDownloading nvidia_cuda_nvrtc_cu12-12.4.127-py3-none-manylinux2014_x86_64.whl (24.6 MB)\n",
      "\u001b[2K   \u001b[90m━━━━━━━━━━━━━━━━━━━━━━━━━━━━━━━━━━━━━━━━\u001b[0m \u001b[32m24.6/24.6 MB\u001b[0m \u001b[31m60.5 MB/s\u001b[0m eta \u001b[36m0:00:00\u001b[0m\n",
      "\u001b[?25hDownloading nvidia_cuda_runtime_cu12-12.4.127-py3-none-manylinux2014_x86_64.whl (883 kB)\n",
      "\u001b[2K   \u001b[90m━━━━━━━━━━━━━━━━━━━━━━━━━━━━━━━━━━━━━━━━\u001b[0m \u001b[32m883.7/883.7 kB\u001b[0m \u001b[31m37.1 MB/s\u001b[0m eta \u001b[36m0:00:00\u001b[0m\n",
      "\u001b[?25hDownloading nvidia_cudnn_cu12-9.1.0.70-py3-none-manylinux2014_x86_64.whl (664.8 MB)\n",
      "\u001b[2K   \u001b[90m━━━━━━━━━━━━━━━━━━━━━━━━━━━━━━━━━━━━━━━━\u001b[0m \u001b[32m664.8/664.8 MB\u001b[0m \u001b[31m2.4 MB/s\u001b[0m eta \u001b[36m0:00:00\u001b[0m\n",
      "\u001b[?25hDownloading nvidia_cufft_cu12-11.2.1.3-py3-none-manylinux2014_x86_64.whl (211.5 MB)\n",
      "\u001b[2K   \u001b[90m━━━━━━━━━━━━━━━━━━━━━━━━━━━━━━━━━━━━━━━━\u001b[0m \u001b[32m211.5/211.5 MB\u001b[0m \u001b[31m6.2 MB/s\u001b[0m eta \u001b[36m0:00:00\u001b[0m\n",
      "\u001b[?25hDownloading nvidia_curand_cu12-10.3.5.147-py3-none-manylinux2014_x86_64.whl (56.3 MB)\n",
      "\u001b[2K   \u001b[90m━━━━━━━━━━━━━━━━━━━━━━━━━━━━━━━━━━━━━━━━\u001b[0m \u001b[32m56.3/56.3 MB\u001b[0m \u001b[31m14.2 MB/s\u001b[0m eta \u001b[36m0:00:00\u001b[0m\n",
      "\u001b[?25hDownloading nvidia_cusolver_cu12-11.6.1.9-py3-none-manylinux2014_x86_64.whl (127.9 MB)\n",
      "\u001b[2K   \u001b[90m━━━━━━━━━━━━━━━━━━━━━━━━━━━━━━━━━━━━━━━━\u001b[0m \u001b[32m127.9/127.9 MB\u001b[0m \u001b[31m8.0 MB/s\u001b[0m eta \u001b[36m0:00:00\u001b[0m\n",
      "\u001b[?25hDownloading nvidia_cusparse_cu12-12.3.1.170-py3-none-manylinux2014_x86_64.whl (207.5 MB)\n",
      "\u001b[2K   \u001b[90m━━━━━━━━━━━━━━━━━━━━━━━━━━━━━━━━━━━━━━━━\u001b[0m \u001b[32m207.5/207.5 MB\u001b[0m \u001b[31m6.5 MB/s\u001b[0m eta \u001b[36m0:00:00\u001b[0m\n",
      "\u001b[?25hDownloading nvidia_nvjitlink_cu12-12.4.127-py3-none-manylinux2014_x86_64.whl (21.1 MB)\n",
      "\u001b[2K   \u001b[90m━━━━━━━━━━━━━━━━━━━━━━━━━━━━━━━━━━━━━━━━\u001b[0m \u001b[32m21.1/21.1 MB\u001b[0m \u001b[31m59.5 MB/s\u001b[0m eta \u001b[36m0:00:00\u001b[0m\n",
      "\u001b[?25hInstalling collected packages: nvidia-nvjitlink-cu12, nvidia-curand-cu12, nvidia-cufft-cu12, nvidia-cuda-runtime-cu12, nvidia-cuda-nvrtc-cu12, nvidia-cuda-cupti-cu12, nvidia-cublas-cu12, nvidia-cusparse-cu12, nvidia-cudnn-cu12, nvidia-cusolver-cu12, invisible_watermark\n",
      "  Attempting uninstall: nvidia-nvjitlink-cu12\n",
      "    Found existing installation: nvidia-nvjitlink-cu12 12.5.82\n",
      "    Uninstalling nvidia-nvjitlink-cu12-12.5.82:\n",
      "      Successfully uninstalled nvidia-nvjitlink-cu12-12.5.82\n",
      "  Attempting uninstall: nvidia-curand-cu12\n",
      "    Found existing installation: nvidia-curand-cu12 10.3.6.82\n",
      "    Uninstalling nvidia-curand-cu12-10.3.6.82:\n",
      "      Successfully uninstalled nvidia-curand-cu12-10.3.6.82\n",
      "  Attempting uninstall: nvidia-cufft-cu12\n",
      "    Found existing installation: nvidia-cufft-cu12 11.2.3.61\n",
      "    Uninstalling nvidia-cufft-cu12-11.2.3.61:\n",
      "      Successfully uninstalled nvidia-cufft-cu12-11.2.3.61\n",
      "  Attempting uninstall: nvidia-cuda-runtime-cu12\n",
      "    Found existing installation: nvidia-cuda-runtime-cu12 12.5.82\n",
      "    Uninstalling nvidia-cuda-runtime-cu12-12.5.82:\n",
      "      Successfully uninstalled nvidia-cuda-runtime-cu12-12.5.82\n",
      "  Attempting uninstall: nvidia-cuda-nvrtc-cu12\n",
      "    Found existing installation: nvidia-cuda-nvrtc-cu12 12.5.82\n",
      "    Uninstalling nvidia-cuda-nvrtc-cu12-12.5.82:\n",
      "      Successfully uninstalled nvidia-cuda-nvrtc-cu12-12.5.82\n",
      "  Attempting uninstall: nvidia-cuda-cupti-cu12\n",
      "    Found existing installation: nvidia-cuda-cupti-cu12 12.5.82\n",
      "    Uninstalling nvidia-cuda-cupti-cu12-12.5.82:\n",
      "      Successfully uninstalled nvidia-cuda-cupti-cu12-12.5.82\n",
      "  Attempting uninstall: nvidia-cublas-cu12\n",
      "    Found existing installation: nvidia-cublas-cu12 12.5.3.2\n",
      "    Uninstalling nvidia-cublas-cu12-12.5.3.2:\n",
      "      Successfully uninstalled nvidia-cublas-cu12-12.5.3.2\n",
      "  Attempting uninstall: nvidia-cusparse-cu12\n",
      "    Found existing installation: nvidia-cusparse-cu12 12.5.1.3\n",
      "    Uninstalling nvidia-cusparse-cu12-12.5.1.3:\n",
      "      Successfully uninstalled nvidia-cusparse-cu12-12.5.1.3\n",
      "  Attempting uninstall: nvidia-cudnn-cu12\n",
      "    Found existing installation: nvidia-cudnn-cu12 9.3.0.75\n",
      "    Uninstalling nvidia-cudnn-cu12-9.3.0.75:\n",
      "      Successfully uninstalled nvidia-cudnn-cu12-9.3.0.75\n",
      "  Attempting uninstall: nvidia-cusolver-cu12\n",
      "    Found existing installation: nvidia-cusolver-cu12 11.6.3.83\n",
      "    Uninstalling nvidia-cusolver-cu12-11.6.3.83:\n",
      "      Successfully uninstalled nvidia-cusolver-cu12-11.6.3.83\n",
      "Successfully installed invisible_watermark-0.2.0 nvidia-cublas-cu12-12.4.5.8 nvidia-cuda-cupti-cu12-12.4.127 nvidia-cuda-nvrtc-cu12-12.4.127 nvidia-cuda-runtime-cu12-12.4.127 nvidia-cudnn-cu12-9.1.0.70 nvidia-cufft-cu12-11.2.1.3 nvidia-curand-cu12-10.3.5.147 nvidia-cusolver-cu12-11.6.1.9 nvidia-cusparse-cu12-12.3.1.170 nvidia-nvjitlink-cu12-12.4.127\n"
     ]
    }
   ],
   "source": [
    "pip install invisible_watermark transformers accelerate safetensors\n"
   ]
  },
  {
   "cell_type": "markdown",
   "metadata": {
    "id": "GhK75tTiXiDw"
   },
   "source": [
    "## 🤖 Step 2: Load Stable Diffusion XL Model\n",
    "\n",
    "Here we define the model ID and set up the Euler scheduler, which provides high-quality denoising.\n",
    "\n",
    "We then load the `StableDiffusionXLPipeline` using:\n",
    "- FP16 precision for memory optimization\n",
    "- GPU acceleration via CUDA\n"
   ]
  },
  {
   "cell_type": "code",
   "execution_count": null,
   "metadata": {
    "colab": {
     "base_uri": "https://localhost:8080/",
     "height": 781,
     "referenced_widgets": [
      "be36afd3cb82438f8b9ab694f0212d25",
      "0d22f8bb536646a7b41e110af607e1ce",
      "d03c5cdc8aff40a2be0adf8f0ca1b250",
      "8e96a79d1e40424f931850cb9cef0a04",
      "deb71099654049d8b3598a5ad84ee61e",
      "08f7f06624b147f7b5980698c47821f8",
      "c5db3227c79440a784004f85d66817a8",
      "ec46026408b342019f12ee094082ec69",
      "d46d39b86c464b6da415f7ee905b4bab",
      "476f91ae8d594c9fade8e30e8050705c",
      "1e63cf46fce44dc78cfc043b10c563d7",
      "73d25a6f86e44d05af21f1c8434c0956",
      "de0198e48a914e15bf0c01aedd33fed7",
      "98bde2af8c2d44118976feed9ce6aee1",
      "6283fa1a2652446e9df6c8c095452df9",
      "cc19f5595ba74d36a2326346b0b7d016",
      "4e160d88aab544b8a6fff82f71875461",
      "262f6d24d7f44459960126597a984f84",
      "49a5055775634156bcd2c12a6f4c65a2",
      "b7a0a00affbb462c9c229a2b360b761f",
      "586637d9adbc4efd83abf4c6ecb6c4e6",
      "8d4247f62dc844b7b85e1f9e25918477",
      "0a3e710e1f5046b9bc2bffb23503e6cf",
      "f165289e60174458ad113d6228a6a965",
      "0bec339ea86749ad8430872eb737fc93",
      "8610175a76e949c2a1210c175af3c6a4",
      "b41d7cee518343618085798d5d4f927e",
      "c519e9cb4da14453964db6e2a8c9c608",
      "a1e96947ad4b4163a76bccf3629931d1",
      "75e5d108241748f89fdff4b0f5368fb7",
      "371127e632094606830e8a705d8f3eac",
      "db79bd097fc74e30b6db884716a95205",
      "afa9840394094343bb92c1c5574610de",
      "167f8b6de57f496e8b15c0bad12a8ce6",
      "e78ff68a81614117971b65b8257eee6a",
      "74dd8ea0e33441428a0b5b391bfd33b9",
      "e6961f0f7db6449fa59f0547c13ff1c1",
      "14b24e9f07af4ee7a48060a476b2f356",
      "bbc6fcfb84e644de80076e752914de2d",
      "3dfa792fb6e3479f9d6b9e1400b40467",
      "1807d7b1d5e84ff9a8a91347d8055f73",
      "3843a7374a234741a20c624a802c4554",
      "95a352743a494717b5a1c4cd5afdec25",
      "f27bd9dea74d427abc8878648af8007e",
      "2ecd89b0b469461a9e7d7af278d54690",
      "656eedb9e98a42df94ae4bb71710ee81",
      "eeb5dc4fd19243f8a180fa6e369a8c16",
      "059aeab9a27b43dfbec7bad6520d3076",
      "f16c567044ec4087bcbbce95c9aee16f",
      "496ace562a894435bd8f5a0ea5985463",
      "45bf3e0756fc4345bec78747b925d87d",
      "43e61ce0d96844cba16a4185087eb2c2",
      "4615343eb76844f28ddf6d95b0d7c073",
      "7ad1ae673e2e4ffea2bed61cc4a01831",
      "ddec0e0eba6544cbab23bd8688f88673",
      "b4d4be74be3448e382f38da9dae857c6",
      "607ad677e64a428d834dc20cdeab7aee",
      "4d0769ed6b0f4e3aabcd99905d6f20fc",
      "e4ff7ddca48f4336b6b5198de93eb055",
      "093727d8d0734d4eac0241f60ccc3432",
      "fb72312400f34d299945a4e94783d16e",
      "f8eeaaf28b064faa9894479f32a68777",
      "850fc9eb7be24f8ea2888d8f79a54510",
      "0a9707c8932d4acaa301dda1dd051764",
      "20fe3ed084bb471eb9febad554bd1c86",
      "69b89bfd7bbb46ba8eb77262b07cdf78",
      "30a94efe0e044227ae357d572c1ddb5c",
      "8d47779385e54ad59a3a5e4459787a3a",
      "b3f78650448047b0a2b3eba619489b4d",
      "b7e90794679149b9b88b664eca995151",
      "ac120f6be93045a180d420553b9bd165",
      "db2f95036a2d41d482a042b1f529374d",
      "de212a25509e4b939676f33a127c84ad",
      "4647dc8f12cc42a6a0fe6e65862ee074",
      "ea6cd1e1c74f42539e3f729e9ae91544",
      "925c6777dfdd49b8a3a6d36b33275653",
      "8536746e25c140dd98bc0d8fc3ee6ef6",
      "15500f8f392a49edbe8d46f761fe489d",
      "b5eaf00c99794b96bc4d4202e44b986c",
      "725c9f284a024cc3967bc26c9d921c08",
      "99416029e96f4504801aa204244e2cc0",
      "d24cfd2e26d04c4ebbaff6d7962b79f1",
      "65d751188a9243afb15a2500cd5f6b30",
      "cf2822c536dd4b1c86e5d19a8345c0ba",
      "34a9ab1158724f8e9d35ef2ef5b6c78a",
      "61f321e52b2e47bdb4ae4752732ec018",
      "02e0fd00d5eb4733ab294f7fe1e6ba81",
      "13d1125a32f14430bb7f6105863d13a0",
      "9ab92e512928428dbd4af06b5b9c2710",
      "375219f9f0ae4e57a512c14bf3e86b7c",
      "87f4a14fc4cf4009b05f257c0b9c95a8",
      "b8c49658d88a40e5a928b43e4e2ddf16",
      "2bb50d09320245e092a3dc34fed1bf19",
      "3a685cb648c14742a08534ab6bad3c4a",
      "b9df6a3b313e4f57a5f54526e7575d94",
      "2c784e00f37c4dfbae1ec1ced407e449",
      "f13552b8b1534b3592479d9b2868393b",
      "86127c05293840a88a061e844479a947",
      "89ebdd99d69e4425af81e294452d571b",
      "3f2c5d7e916d4c06ac820c780c63cf5f",
      "8f85ec87f34b43d78a209f1ec2e14ea4",
      "5c8b4759bf3648dd90efd65f7650211d",
      "2a3908e98b4d4d6db9b6c3ee74ed236e",
      "76ddf689bdc448ce8360efc745f78588",
      "16264fdc7518499b85e163f99f3e86a9",
      "29244e8ebc5548e7b9c196673de77f61",
      "08a6dfdfe6c24b6da51ddf8d5abbfe26",
      "31b5e9420e9f493bbc7f9648a518c63a",
      "1e2b830e826f456a866d41d162cc17a8",
      "a3366b1b1e804f9f96dfc57f704cace9",
      "3e73dab4b32f443788a3587f23521774",
      "f8c96bb717d94dab8660dc326ef4195c",
      "204f0afbf35c471386835d0ac8ecfbcd",
      "6dc6b26186ab4087a653a6406cb3f9dc",
      "975a2c76027f44c5843aee7475f616d3",
      "dc10c8e9aa7a4b379e91a5d7aac32c75",
      "72497344f03d4106a1461fb2bb1ec074",
      "6391619482074ba8ac56b212e897f8d8",
      "9244afb6b2344f4e8a18500d71c51f79",
      "044b6fae7fef4f8e9e83527cbe77c110",
      "a0f58144d9ee46d49976b003cc4c0719",
      "35fa804a6f8a4b2283cfc4302c0fa284",
      "6f9598ea923f44458c4a0dcc808ef0ec",
      "9ae9cdce310147c2afd757c77ffeaa3e",
      "e6b34c0f87444f309bbca6ea3b624e60",
      "d9e8ede255214a159931a516aeb8e85b",
      "49994d09512f4fbfa78a9f1833c1c9ca",
      "a57e5db03b0842f283eaebb7b1ae6ea3",
      "032fc8bf9a424c37a6e98d8cf7574193",
      "7aa38252c7bf4847b33c1e931b8e056e",
      "cea67ad8aa3e4b89abb4af919a6e0f31",
      "19d3bf8b7b5a4a1da7d5ba0bca564157",
      "20395b9156f34602a33c7faa74ba313b",
      "f3c85d9ce08f45489203f24dd070a6de",
      "769be67bf6e54f78a594c8436730bb97",
      "751f8609c87343d4a929f89746587da7",
      "1ee9f6ffea6049fa96c901946dd0b7a4",
      "11c9599464524ca8a129c195ba6873f6",
      "4bfa329093194aa5863fb039e2475e9b",
      "8d1383b6d17447b79a3b899f7718ac3d",
      "412f5daf886c41528929f0ef1ba54601",
      "611954326c7b4a74baa6993b37189c9f",
      "ebdc61f563304bbd93d31305938fdc98",
      "ee9fd6e645144281a96a2f46185ee51e",
      "0cde76bbcd504cd3a473295498148dba",
      "35ef8ade40224640be0a27a0507a72f5",
      "6981b4fd39c14731873724fb9b25bb40",
      "f1880cd1d45e4cacbc6a94a1e408f09a",
      "269afd87c600431fa1b4736021d57d86",
      "4fd6639600dc419bbce866c0aa993cc5",
      "0768825f369d40d089a4e96ca4ad7825",
      "b0de53b4faa04687bf7dce339535a568",
      "c438f36d8e214bd8b25f9f1b4b8909ce",
      "08d253b137144c328ed27a95457fe443",
      "4e8c39b24357467f96feaa0a19669bc2",
      "9d3ca531eb554df0ba754b8890087ead",
      "fa3bbd1d1d8c42d283ac715eca6e5082",
      "12d6f54d080746658bbf014f331e9ae8",
      "e9bfeb2b60c14cf28ebd340e4bbbfaa6",
      "05831e1fcc524c16886ed53f18aa505b",
      "fe50d36eaaf04970bbc1d54cf5969e72",
      "e533338dcd34418da231a5cb4e2e6028",
      "6c1dc49e6665437c987bab8aae14d213",
      "8b8218cc3d06498f8861df987c204d4b",
      "67c42a6d11c84172bcca08a4d4c96c10",
      "14a80aa46e00433f817a733bf25ea9f9",
      "0a2d19f57bc640d9850224a8c155f1e2",
      "263529127c18496cada9a1f745f39611",
      "738f8c9ad0a942c6a088d50520b708c9",
      "868a3fda0c7249648159e7baf991c9cb",
      "96e8aeb804884393a791954b6cffc8ec",
      "510b519ddd4246e682fc6b992bf6c5e0",
      "f69bdaf518fd46818ca6796b8522729c",
      "69edc5be55514cddbefdde4ee9983c18",
      "ad1ccd2a10e84cadad1070af7bf9e29e",
      "d53f495b9f2a48cda55f521b921d8d44",
      "70b9d6a3508e43e3b58c9f96521bf512",
      "9c51c21b9fb84a6f9be22aa8784c38d5",
      "217073f02e7d4b98a31b3a9f324730eb",
      "a6f90a14205c40dca3fc6af37122d4af",
      "4397a5605d5f4a99bb06a23f4bde40b0",
      "ddf349b259ea40d792e19274aa1c3c71",
      "f4f99c98829c4e57be0b2f8e6fcfb474",
      "547711b1b0ad48bc8d91963f1c351d7b",
      "813103b408d642dfa28e9879f91f3588",
      "c9d8ecffaad74884ac774970d7e1cd61",
      "a753b2f14c0845e09471c50c09161999",
      "5e2596e466af434d99d8ae6bb5322ae8",
      "9fb22d0304fe4900bbd3e0ea4be4fe3c",
      "965ae26b43fe46e78407e39f14e6697b",
      "3296a334a5e746bd924ccce04b0179e1",
      "45ba729e4b4341daa1b7e5ceeff27088",
      "93aae431c42d4f7cbab3f43e656a261f",
      "d61bbcdf4ac64745bb6edcb0cdf532f4",
      "24ef3f98149548b2a543725888f0691e",
      "7849f844a0a745abae9569b4952dff33",
      "f19d801cc98b41cb8561af904ea8793d",
      "4dad4d6110ca402a984965118e658b23",
      "f11e3c5b538d4501823df3221f58b938",
      "21fce0e735264a64b04baf39857a84b8",
      "4c0add7cff124ec68fe17f54c78e4e3e",
      "37c081e2e9ac44d6b890f7dac75c5162",
      "01f6b99701004c60828b73bcb40b010e",
      "5a3b8d114a2f4b6885d0ebfc01da98bb",
      "8920e8c9af6a4d8ead6a6d7f3b4f3e6f",
      "8d66ff72d306401fa6419d83f86002fd",
      "f4fde7ece83b4519b96f09797a9e05c4",
      "8a62797ad6544db389f4f69a15b8678f",
      "17dbfecb8c3c40fda5dc54f60fa41ce9",
      "be9425e99fca4767bf0cf333da1583ee",
      "d7f6b9100dd64418a20852f096dc080b",
      "e3825e4fff1943639d3dc4a0e6fd54ce",
      "743cbdcdf4c54168b68ceedd6c49d3f8",
      "d260f18c4ed444e4becbde58744a77a3",
      "72b5d00655064d5f929f661220aca18e",
      "01c42592c33447d1853a4b5d38555959",
      "cc16eeb2644444b3adaac1e7c78d9366",
      "0c3abc11a1e547048c9a2366db3cb603",
      "560bace3e0164878afc65cf3c5ab6297",
      "8a63ed8388554f258ab6a800e7a28819"
     ]
    },
    "executionInfo": {
     "elapsed": 466434,
     "status": "ok",
     "timestamp": 1753505200767,
     "user": {
      "displayName": "Yashwanth Kumar",
      "userId": "04073106945765763472"
     },
     "user_tz": -330
    },
    "id": "hlndjejJyHP_",
    "outputId": "7d2bc065-7bcb-49ac-a399-cf8032ee1eb4"
   },
   "outputs": [
    {
     "name": "stderr",
     "output_type": "stream",
     "text": [
      "/usr/local/lib/python3.11/dist-packages/huggingface_hub/utils/_auth.py:94: UserWarning: \n",
      "The secret `HF_TOKEN` does not exist in your Colab secrets.\n",
      "To authenticate with the Hugging Face Hub, create a token in your settings tab (https://huggingface.co/settings/tokens), set it as secret in your Google Colab and restart your session.\n",
      "You will be able to reuse this secret in all of your notebooks.\n",
      "Please note that authentication is recommended but still optional to access public models or datasets.\n",
      "  warnings.warn(\n"
     ]
    },
    {
     "data": {
      "application/vnd.jupyter.widget-view+json": {
       "model_id": "be36afd3cb82438f8b9ab694f0212d25",
       "version_major": 2,
       "version_minor": 0
      },
      "text/plain": [
       "model_index.json:   0%|          | 0.00/609 [00:00<?, ?B/s]"
      ]
     },
     "metadata": {},
     "output_type": "display_data"
    },
    {
     "data": {
      "application/vnd.jupyter.widget-view+json": {
       "model_id": "73d25a6f86e44d05af21f1c8434c0956",
       "version_major": 2,
       "version_minor": 0
      },
      "text/plain": [
       "Fetching 19 files:   0%|          | 0/19 [00:00<?, ?it/s]"
      ]
     },
     "metadata": {},
     "output_type": "display_data"
    },
    {
     "data": {
      "application/vnd.jupyter.widget-view+json": {
       "model_id": "0a3e710e1f5046b9bc2bffb23503e6cf",
       "version_major": 2,
       "version_minor": 0
      },
      "text/plain": [
       "scheduler_config.json:   0%|          | 0.00/479 [00:00<?, ?B/s]"
      ]
     },
     "metadata": {},
     "output_type": "display_data"
    },
    {
     "data": {
      "application/vnd.jupyter.widget-view+json": {
       "model_id": "167f8b6de57f496e8b15c0bad12a8ce6",
       "version_major": 2,
       "version_minor": 0
      },
      "text/plain": [
       "tokenizer_config.json:   0%|          | 0.00/737 [00:00<?, ?B/s]"
      ]
     },
     "metadata": {},
     "output_type": "display_data"
    },
    {
     "data": {
      "application/vnd.jupyter.widget-view+json": {
       "model_id": "2ecd89b0b469461a9e7d7af278d54690",
       "version_major": 2,
       "version_minor": 0
      },
      "text/plain": [
       "special_tokens_map.json:   0%|          | 0.00/472 [00:00<?, ?B/s]"
      ]
     },
     "metadata": {},
     "output_type": "display_data"
    },
    {
     "data": {
      "application/vnd.jupyter.widget-view+json": {
       "model_id": "b4d4be74be3448e382f38da9dae857c6",
       "version_major": 2,
       "version_minor": 0
      },
      "text/plain": [
       "config.json:   0%|          | 0.00/565 [00:00<?, ?B/s]"
      ]
     },
     "metadata": {},
     "output_type": "display_data"
    },
    {
     "data": {
      "application/vnd.jupyter.widget-view+json": {
       "model_id": "30a94efe0e044227ae357d572c1ddb5c",
       "version_major": 2,
       "version_minor": 0
      },
      "text/plain": [
       "merges.txt: 0.00B [00:00, ?B/s]"
      ]
     },
     "metadata": {},
     "output_type": "display_data"
    },
    {
     "data": {
      "application/vnd.jupyter.widget-view+json": {
       "model_id": "15500f8f392a49edbe8d46f761fe489d",
       "version_major": 2,
       "version_minor": 0
      },
      "text/plain": [
       "text_encoder_2/model.fp16.safetensors:   0%|          | 0.00/1.39G [00:00<?, ?B/s]"
      ]
     },
     "metadata": {},
     "output_type": "display_data"
    },
    {
     "data": {
      "application/vnd.jupyter.widget-view+json": {
       "model_id": "9ab92e512928428dbd4af06b5b9c2710",
       "version_major": 2,
       "version_minor": 0
      },
      "text/plain": [
       "text_encoder/model.fp16.safetensors:   0%|          | 0.00/246M [00:00<?, ?B/s]"
      ]
     },
     "metadata": {},
     "output_type": "display_data"
    },
    {
     "data": {
      "application/vnd.jupyter.widget-view+json": {
       "model_id": "3f2c5d7e916d4c06ac820c780c63cf5f",
       "version_major": 2,
       "version_minor": 0
      },
      "text/plain": [
       "vocab.json: 0.00B [00:00, ?B/s]"
      ]
     },
     "metadata": {},
     "output_type": "display_data"
    },
    {
     "data": {
      "application/vnd.jupyter.widget-view+json": {
       "model_id": "3e73dab4b32f443788a3587f23521774",
       "version_major": 2,
       "version_minor": 0
      },
      "text/plain": [
       "special_tokens_map.json:   0%|          | 0.00/460 [00:00<?, ?B/s]"
      ]
     },
     "metadata": {},
     "output_type": "display_data"
    },
    {
     "data": {
      "application/vnd.jupyter.widget-view+json": {
       "model_id": "35fa804a6f8a4b2283cfc4302c0fa284",
       "version_major": 2,
       "version_minor": 0
      },
      "text/plain": [
       "tokenizer_config.json:   0%|          | 0.00/725 [00:00<?, ?B/s]"
      ]
     },
     "metadata": {},
     "output_type": "display_data"
    },
    {
     "data": {
      "application/vnd.jupyter.widget-view+json": {
       "model_id": "20395b9156f34602a33c7faa74ba313b",
       "version_major": 2,
       "version_minor": 0
      },
      "text/plain": [
       "config.json:   0%|          | 0.00/575 [00:00<?, ?B/s]"
      ]
     },
     "metadata": {},
     "output_type": "display_data"
    },
    {
     "data": {
      "application/vnd.jupyter.widget-view+json": {
       "model_id": "ee9fd6e645144281a96a2f46185ee51e",
       "version_major": 2,
       "version_minor": 0
      },
      "text/plain": [
       "config.json: 0.00B [00:00, ?B/s]"
      ]
     },
     "metadata": {},
     "output_type": "display_data"
    },
    {
     "data": {
      "application/vnd.jupyter.widget-view+json": {
       "model_id": "4e8c39b24357467f96feaa0a19669bc2",
       "version_major": 2,
       "version_minor": 0
      },
      "text/plain": [
       "config.json:   0%|          | 0.00/642 [00:00<?, ?B/s]"
      ]
     },
     "metadata": {},
     "output_type": "display_data"
    },
    {
     "data": {
      "application/vnd.jupyter.widget-view+json": {
       "model_id": "14a80aa46e00433f817a733bf25ea9f9",
       "version_major": 2,
       "version_minor": 0
      },
      "text/plain": [
       "unet/diffusion_pytorch_model.fp16.safete(…):   0%|          | 0.00/5.14G [00:00<?, ?B/s]"
      ]
     },
     "metadata": {},
     "output_type": "display_data"
    },
    {
     "data": {
      "application/vnd.jupyter.widget-view+json": {
       "model_id": "70b9d6a3508e43e3b58c9f96521bf512",
       "version_major": 2,
       "version_minor": 0
      },
      "text/plain": [
       "vae_1_0/diffusion_pytorch_model.fp16.saf(…):   0%|          | 0.00/167M [00:00<?, ?B/s]"
      ]
     },
     "metadata": {},
     "output_type": "display_data"
    },
    {
     "data": {
      "application/vnd.jupyter.widget-view+json": {
       "model_id": "5e2596e466af434d99d8ae6bb5322ae8",
       "version_major": 2,
       "version_minor": 0
      },
      "text/plain": [
       "vae/diffusion_pytorch_model.fp16.safeten(…):   0%|          | 0.00/167M [00:00<?, ?B/s]"
      ]
     },
     "metadata": {},
     "output_type": "display_data"
    },
    {
     "data": {
      "application/vnd.jupyter.widget-view+json": {
       "model_id": "f11e3c5b538d4501823df3221f58b938",
       "version_major": 2,
       "version_minor": 0
      },
      "text/plain": [
       "Loading pipeline components...:   0%|          | 0/7 [00:00<?, ?it/s]"
      ]
     },
     "metadata": {},
     "output_type": "display_data"
    },
    {
     "data": {
      "application/vnd.jupyter.widget-view+json": {
       "model_id": "be9425e99fca4767bf0cf333da1583ee",
       "version_major": 2,
       "version_minor": 0
      },
      "text/plain": [
       "  0%|          | 0/50 [00:00<?, ?it/s]"
      ]
     },
     "metadata": {},
     "output_type": "display_data"
    }
   ],
   "source": [
    "from diffusers import DiffusionPipeline\n",
    "import torch\n",
    "\n",
    "pipe = DiffusionPipeline.from_pretrained(\"stabilityai/stable-diffusion-xl-base-1.0\", torch_dtype=torch.float16, use_safetensors=True, variant=\"fp16\")\n",
    "pipe.to(\"cuda\")\n",
    "\n",
    "# if using torch < 2.0\n",
    "# pipe.enable_xformers_memory_efficient_attention()\n",
    "\n",
    "prompt = \"The Director is Directing a scene in a Monsoon Season\"\n",
    "\n",
    "images = pipe(prompt=prompt).images[0]"
   ]
  },
  {
   "cell_type": "code",
   "execution_count": null,
   "metadata": {
    "colab": {
     "base_uri": "https://localhost:8080/",
     "height": 1000,
     "output_embedded_package_id": "1_L8oXs15d1fDVrGssDXqEut7BNa6Xc7a"
    },
    "executionInfo": {
     "elapsed": 1792,
     "status": "ok",
     "timestamp": 1753505207400,
     "user": {
      "displayName": "Yashwanth Kumar",
      "userId": "04073106945765763472"
     },
     "user_tz": -330
    },
    "id": "gzjf8lRzyHXU",
    "outputId": "97db80db-b3cf-40bd-f496-db8453096109"
   },
   "outputs": [
    {
     "data": {
      "text/plain": [
       "Output hidden; open in https://colab.research.google.com to view."
      ]
     },
     "metadata": {},
     "output_type": "display_data"
    }
   ],
   "source": [
    "images"
   ]
  },
  {
   "cell_type": "code",
   "execution_count": null,
   "metadata": {
    "colab": {
     "base_uri": "https://localhost:8080/"
    },
    "executionInfo": {
     "elapsed": 8258,
     "status": "ok",
     "timestamp": 1753505226124,
     "user": {
      "displayName": "Yashwanth Kumar",
      "userId": "04073106945765763472"
     },
     "user_tz": -330
    },
    "id": "5WWjcrdg0t2E",
    "outputId": "10547508-52fb-4f4b-ab8b-0a9477f5690f"
   },
   "outputs": [
    {
     "name": "stdout",
     "output_type": "stream",
     "text": [
      "Requirement already satisfied: gradio in /usr/local/lib/python3.11/dist-packages (5.38.1)\n",
      "Requirement already satisfied: aiofiles<25.0,>=22.0 in /usr/local/lib/python3.11/dist-packages (from gradio) (24.1.0)\n",
      "Requirement already satisfied: anyio<5.0,>=3.0 in /usr/local/lib/python3.11/dist-packages (from gradio) (4.9.0)\n",
      "Requirement already satisfied: brotli>=1.1.0 in /usr/local/lib/python3.11/dist-packages (from gradio) (1.1.0)\n",
      "Requirement already satisfied: fastapi<1.0,>=0.115.2 in /usr/local/lib/python3.11/dist-packages (from gradio) (0.116.1)\n",
      "Requirement already satisfied: ffmpy in /usr/local/lib/python3.11/dist-packages (from gradio) (0.6.1)\n",
      "Requirement already satisfied: gradio-client==1.11.0 in /usr/local/lib/python3.11/dist-packages (from gradio) (1.11.0)\n",
      "Requirement already satisfied: groovy~=0.1 in /usr/local/lib/python3.11/dist-packages (from gradio) (0.1.2)\n",
      "Requirement already satisfied: httpx<1.0,>=0.24.1 in /usr/local/lib/python3.11/dist-packages (from gradio) (0.28.1)\n",
      "Requirement already satisfied: huggingface-hub>=0.28.1 in /usr/local/lib/python3.11/dist-packages (from gradio) (0.33.4)\n",
      "Requirement already satisfied: jinja2<4.0 in /usr/local/lib/python3.11/dist-packages (from gradio) (3.1.6)\n",
      "Requirement already satisfied: markupsafe<4.0,>=2.0 in /usr/local/lib/python3.11/dist-packages (from gradio) (3.0.2)\n",
      "Requirement already satisfied: numpy<3.0,>=1.0 in /usr/local/lib/python3.11/dist-packages (from gradio) (2.0.2)\n",
      "Requirement already satisfied: orjson~=3.0 in /usr/local/lib/python3.11/dist-packages (from gradio) (3.11.0)\n",
      "Requirement already satisfied: packaging in /usr/local/lib/python3.11/dist-packages (from gradio) (25.0)\n",
      "Requirement already satisfied: pandas<3.0,>=1.0 in /usr/local/lib/python3.11/dist-packages (from gradio) (2.2.2)\n",
      "Requirement already satisfied: pillow<12.0,>=8.0 in /usr/local/lib/python3.11/dist-packages (from gradio) (11.3.0)\n",
      "Requirement already satisfied: pydantic<2.12,>=2.0 in /usr/local/lib/python3.11/dist-packages (from gradio) (2.11.7)\n",
      "Requirement already satisfied: pydub in /usr/local/lib/python3.11/dist-packages (from gradio) (0.25.1)\n",
      "Requirement already satisfied: python-multipart>=0.0.18 in /usr/local/lib/python3.11/dist-packages (from gradio) (0.0.20)\n",
      "Requirement already satisfied: pyyaml<7.0,>=5.0 in /usr/local/lib/python3.11/dist-packages (from gradio) (6.0.2)\n",
      "Requirement already satisfied: ruff>=0.9.3 in /usr/local/lib/python3.11/dist-packages (from gradio) (0.12.4)\n",
      "Requirement already satisfied: safehttpx<0.2.0,>=0.1.6 in /usr/local/lib/python3.11/dist-packages (from gradio) (0.1.6)\n",
      "Requirement already satisfied: semantic-version~=2.0 in /usr/local/lib/python3.11/dist-packages (from gradio) (2.10.0)\n",
      "Requirement already satisfied: starlette<1.0,>=0.40.0 in /usr/local/lib/python3.11/dist-packages (from gradio) (0.47.2)\n",
      "Requirement already satisfied: tomlkit<0.14.0,>=0.12.0 in /usr/local/lib/python3.11/dist-packages (from gradio) (0.13.3)\n",
      "Requirement already satisfied: typer<1.0,>=0.12 in /usr/local/lib/python3.11/dist-packages (from gradio) (0.16.0)\n",
      "Requirement already satisfied: typing-extensions~=4.0 in /usr/local/lib/python3.11/dist-packages (from gradio) (4.14.1)\n",
      "Requirement already satisfied: uvicorn>=0.14.0 in /usr/local/lib/python3.11/dist-packages (from gradio) (0.35.0)\n",
      "Requirement already satisfied: fsspec in /usr/local/lib/python3.11/dist-packages (from gradio-client==1.11.0->gradio) (2025.3.0)\n",
      "Requirement already satisfied: websockets<16.0,>=10.0 in /usr/local/lib/python3.11/dist-packages (from gradio-client==1.11.0->gradio) (15.0.1)\n",
      "Requirement already satisfied: idna>=2.8 in /usr/local/lib/python3.11/dist-packages (from anyio<5.0,>=3.0->gradio) (3.10)\n",
      "Requirement already satisfied: sniffio>=1.1 in /usr/local/lib/python3.11/dist-packages (from anyio<5.0,>=3.0->gradio) (1.3.1)\n",
      "Requirement already satisfied: certifi in /usr/local/lib/python3.11/dist-packages (from httpx<1.0,>=0.24.1->gradio) (2025.7.14)\n",
      "Requirement already satisfied: httpcore==1.* in /usr/local/lib/python3.11/dist-packages (from httpx<1.0,>=0.24.1->gradio) (1.0.9)\n",
      "Requirement already satisfied: h11>=0.16 in /usr/local/lib/python3.11/dist-packages (from httpcore==1.*->httpx<1.0,>=0.24.1->gradio) (0.16.0)\n",
      "Requirement already satisfied: filelock in /usr/local/lib/python3.11/dist-packages (from huggingface-hub>=0.28.1->gradio) (3.18.0)\n",
      "Requirement already satisfied: requests in /usr/local/lib/python3.11/dist-packages (from huggingface-hub>=0.28.1->gradio) (2.32.3)\n",
      "Requirement already satisfied: tqdm>=4.42.1 in /usr/local/lib/python3.11/dist-packages (from huggingface-hub>=0.28.1->gradio) (4.67.1)\n",
      "Requirement already satisfied: hf-xet<2.0.0,>=1.1.2 in /usr/local/lib/python3.11/dist-packages (from huggingface-hub>=0.28.1->gradio) (1.1.5)\n",
      "Requirement already satisfied: python-dateutil>=2.8.2 in /usr/local/lib/python3.11/dist-packages (from pandas<3.0,>=1.0->gradio) (2.9.0.post0)\n",
      "Requirement already satisfied: pytz>=2020.1 in /usr/local/lib/python3.11/dist-packages (from pandas<3.0,>=1.0->gradio) (2025.2)\n",
      "Requirement already satisfied: tzdata>=2022.7 in /usr/local/lib/python3.11/dist-packages (from pandas<3.0,>=1.0->gradio) (2025.2)\n",
      "Requirement already satisfied: annotated-types>=0.6.0 in /usr/local/lib/python3.11/dist-packages (from pydantic<2.12,>=2.0->gradio) (0.7.0)\n",
      "Requirement already satisfied: pydantic-core==2.33.2 in /usr/local/lib/python3.11/dist-packages (from pydantic<2.12,>=2.0->gradio) (2.33.2)\n",
      "Requirement already satisfied: typing-inspection>=0.4.0 in /usr/local/lib/python3.11/dist-packages (from pydantic<2.12,>=2.0->gradio) (0.4.1)\n",
      "Requirement already satisfied: click>=8.0.0 in /usr/local/lib/python3.11/dist-packages (from typer<1.0,>=0.12->gradio) (8.2.1)\n",
      "Requirement already satisfied: shellingham>=1.3.0 in /usr/local/lib/python3.11/dist-packages (from typer<1.0,>=0.12->gradio) (1.5.4)\n",
      "Requirement already satisfied: rich>=10.11.0 in /usr/local/lib/python3.11/dist-packages (from typer<1.0,>=0.12->gradio) (13.9.4)\n",
      "Requirement already satisfied: six>=1.5 in /usr/local/lib/python3.11/dist-packages (from python-dateutil>=2.8.2->pandas<3.0,>=1.0->gradio) (1.17.0)\n",
      "Requirement already satisfied: markdown-it-py>=2.2.0 in /usr/local/lib/python3.11/dist-packages (from rich>=10.11.0->typer<1.0,>=0.12->gradio) (3.0.0)\n",
      "Requirement already satisfied: pygments<3.0.0,>=2.13.0 in /usr/local/lib/python3.11/dist-packages (from rich>=10.11.0->typer<1.0,>=0.12->gradio) (2.19.2)\n",
      "Requirement already satisfied: charset-normalizer<4,>=2 in /usr/local/lib/python3.11/dist-packages (from requests->huggingface-hub>=0.28.1->gradio) (3.4.2)\n",
      "Requirement already satisfied: urllib3<3,>=1.21.1 in /usr/local/lib/python3.11/dist-packages (from requests->huggingface-hub>=0.28.1->gradio) (2.5.0)\n",
      "Requirement already satisfied: mdurl~=0.1 in /usr/local/lib/python3.11/dist-packages (from markdown-it-py>=2.2.0->rich>=10.11.0->typer<1.0,>=0.12->gradio) (0.1.2)\n"
     ]
    }
   ],
   "source": [
    "!pip install gradio"
   ]
  },
  {
   "cell_type": "markdown",
   "metadata": {
    "id": "2cfpKzUYYB-_"
   },
   "source": [
    "## 🎨 Step 3: Load the Model and Scheduler & Define Image Generation Function\n",
    "\n",
    "This function takes a text `prompt` as input and returns the image generated by the model.\n",
    "\n",
    "It uses the `.images[0]` syntax because the pipeline may return a list of images.\n",
    "\n",
    "# Build and Launch the Gradio Interface\n",
    "\n",
    "## 🌐 Step 4: Build Gradio UI\n",
    "\n",
    "We use Gradio to build a simple web interface:\n",
    "- A textbox for prompt input\n",
    "- An image display panel for the output\n",
    "\n",
    "`launch()` starts the local web server for interactive image generation.\n"
   ]
  },
  {
   "cell_type": "code",
   "execution_count": null,
   "metadata": {
    "colab": {
     "base_uri": "https://localhost:8080/",
     "height": 974,
     "referenced_widgets": [
      "01b21e04685e4fb397c5a29d22cd47d4",
      "9425e8f28eb94ed9ad3101e078471e02",
      "4bddd3b5d1f94c168eb2091f6e3a3293",
      "3105a1b3c3b24bbcbab6d81a50422fe9",
      "ccdfd0e4f4ec486385ffeec5c9b851de",
      "c0bd6207bd614c69840662074609bb90",
      "fdb1e20606094356afc9d098e388e565",
      "eab218ef3e664c19bc017c6027d69a85",
      "0ca8cc9e80d74d119c4053066679eb22",
      "d39b72c3c22d4636b6ca38d0b0f494d6",
      "6bdcc797dd1445dab8fae53bc62edd22",
      "9f6ff08e02944b138891cb5e20eae0ef",
      "32a0ff97119044ff9cb1f620d3894054",
      "05db4cca0f3e411aa272df7da800d3ea",
      "79dc0cef3d2f46538307c5dc35dde617",
      "c1b09a00e6ad4b52aad1a590c7da764a",
      "cf67e21ba54b42da8286c95908108b0d",
      "8691c8f7107b45e0ab4fdcecc28356ac",
      "13a6cb1821c9489a9854bf62b1d564c2",
      "ef9d5152158648b7b4bcdf43bcd74648",
      "6966d4aa5b864bcaa1d590d8b521c90b",
      "616ecd275c774254a20c6486821aaedf",
      "99904c173ebf4bc5bc5862754b7c1b0d",
      "8157817bb97644e08cc6232e3a500f8d",
      "aad487a8bfa24263aa1ce451b592bf61",
      "8512541b3c3a4e178de807c082c31105",
      "f6786986f957496590b2802f16ee4702",
      "294fd0a0cfb948c3b4af3d0c6ba62f0e",
      "128a154e000a4c3d807aa4409a232d9c",
      "247c0682d54f4d41a1211e2b373e4f60",
      "25d972e8ac83477d862f3f8c97bb4415",
      "db8aad09d1194423b57552176e667ed2",
      "f92dd0b1d69a4faaad949bf4d8e71c30",
      "7d05f8484c55493aaa614babd5eec8d9",
      "d91894b2dbb446ab9a63626468f93215",
      "d99f71d5fba44f829706a73cabd7697c",
      "535d75a29ac045f394590db8cdb0db91",
      "4ea0ca303b3344a0917e05f8b26b6619",
      "4c7d3700cd4a48ba840422333a1eb3fe",
      "54fe5084328f483a81dd8401afb676bf",
      "2d9ec7f668134dfe992b7e6a32fa3262",
      "a8475b1cabed476aad951143660e24fc",
      "b0979625874b449d8c8dc4a597cf59a1",
      "91ace15a8e6b46ba802b1baf7972a948",
      "c7abfd8ea4de48c688716cafba6cf530",
      "19c853ecfcc64d63bc0c26a3a43df34c",
      "381ef45dcea845639e5f99210010ff6b",
      "611faae192ce4e748a67330465d2941d",
      "9c01e0d835f1475fb679ca59629b0156",
      "2d7719a0275647d2aca1e2c6c17bee89",
      "a27fe3bcc85d498db28636b57ad7cc0f",
      "0fa98c581dfa4272adf656d5eec22ad2",
      "66387afc6c9d419b9c0175a65a84cf46",
      "ebb6663b859b466688fb5ae86a861bf9",
      "72566f4dc13d4d919f77fa3387f6d776",
      "37dc8d00d27c4ec592f3707eedbf3e8b",
      "1a4d638f7847484d9ee44406a78ebea6",
      "b6e39c7673994e8298ebcdd6e4991cd1",
      "ca1ae9dae5014d0a8eb412a9bc07a9aa",
      "b80d470b755d402da7d679592bab2c49",
      "33a01c00d3c94c7fae1d7a515a98c93e",
      "58558eb9827d4e318acebbfb63b77b0b",
      "106feff5eba240369291f2780d820c7a",
      "d7b00b7b547f4048a9b63978106ef1eb",
      "156ebac2d1da45fc9fcfd05214046b9f",
      "7c7dbb3bc3634cedba949c23655f1fc6",
      "61f6431b4cf14d70802b299fe5d8f5ac",
      "261923bc93e940d687674b47be6e0c79",
      "dac8a519920245f2861e5148e6dde37c",
      "ae355df4233546d8a97790481da43c49",
      "aa1d91b449ba4e9fbd508ff128aac231",
      "3c930fc1e6e94a468b2e48138edd5453",
      "70d0c2b60649457695461f4d5e0b4793",
      "5b6fa7c00b7b44e6828dbe01212fbc7e",
      "d9b82f4211884dc4bcd627c43a2b4cee",
      "9d356f239f354af79a3bd571fe583eb9",
      "f8d149c6d5c64abd844be5f04b2cbde2"
     ]
    },
    "executionInfo": {
     "elapsed": 1037119,
     "status": "ok",
     "timestamp": 1753506753440,
     "user": {
      "displayName": "Yashwanth Kumar",
      "userId": "04073106945765763472"
     },
     "user_tz": -330
    },
    "id": "IYxy1ihgyHZW",
    "outputId": "6123052f-285c-448c-9cb1-1b9d04a72cb7"
   },
   "outputs": [
    {
     "name": "stderr",
     "output_type": "stream",
     "text": [
      "/usr/local/lib/python3.11/dist-packages/huggingface_hub/utils/_auth.py:94: UserWarning: \n",
      "The secret `HF_TOKEN` does not exist in your Colab secrets.\n",
      "To authenticate with the Hugging Face Hub, create a token in your settings tab (https://huggingface.co/settings/tokens), set it as secret in your Google Colab and restart your session.\n",
      "You will be able to reuse this secret in all of your notebooks.\n",
      "Please note that authentication is recommended but still optional to access public models or datasets.\n",
      "  warnings.warn(\n"
     ]
    },
    {
     "data": {
      "application/vnd.jupyter.widget-view+json": {
       "model_id": "01b21e04685e4fb397c5a29d22cd47d4",
       "version_major": 2,
       "version_minor": 0
      },
      "text/plain": [
       "Fetching 18 files:   0%|          | 0/18 [00:00<?, ?it/s]"
      ]
     },
     "metadata": {},
     "output_type": "display_data"
    },
    {
     "data": {
      "application/vnd.jupyter.widget-view+json": {
       "model_id": "9f6ff08e02944b138891cb5e20eae0ef",
       "version_major": 2,
       "version_minor": 0
      },
      "text/plain": [
       "text_encoder_2/model.safetensors:   0%|          | 0.00/2.78G [00:00<?, ?B/s]"
      ]
     },
     "metadata": {},
     "output_type": "display_data"
    },
    {
     "data": {
      "application/vnd.jupyter.widget-view+json": {
       "model_id": "99904c173ebf4bc5bc5862754b7c1b0d",
       "version_major": 2,
       "version_minor": 0
      },
      "text/plain": [
       "vae_1_0/diffusion_pytorch_model.safetens(…):   0%|          | 0.00/335M [00:00<?, ?B/s]"
      ]
     },
     "metadata": {},
     "output_type": "display_data"
    },
    {
     "data": {
      "application/vnd.jupyter.widget-view+json": {
       "model_id": "7d05f8484c55493aaa614babd5eec8d9",
       "version_major": 2,
       "version_minor": 0
      },
      "text/plain": [
       "unet/diffusion_pytorch_model.safetensors:   0%|          | 0.00/10.3G [00:00<?, ?B/s]"
      ]
     },
     "metadata": {},
     "output_type": "display_data"
    },
    {
     "data": {
      "application/vnd.jupyter.widget-view+json": {
       "model_id": "c7abfd8ea4de48c688716cafba6cf530",
       "version_major": 2,
       "version_minor": 0
      },
      "text/plain": [
       "vae/diffusion_pytorch_model.safetensors:   0%|          | 0.00/335M [00:00<?, ?B/s]"
      ]
     },
     "metadata": {},
     "output_type": "display_data"
    },
    {
     "data": {
      "application/vnd.jupyter.widget-view+json": {
       "model_id": "37dc8d00d27c4ec592f3707eedbf3e8b",
       "version_major": 2,
       "version_minor": 0
      },
      "text/plain": [
       "text_encoder/model.safetensors:   0%|          | 0.00/492M [00:00<?, ?B/s]"
      ]
     },
     "metadata": {},
     "output_type": "display_data"
    },
    {
     "data": {
      "application/vnd.jupyter.widget-view+json": {
       "model_id": "61f6431b4cf14d70802b299fe5d8f5ac",
       "version_major": 2,
       "version_minor": 0
      },
      "text/plain": [
       "Loading pipeline components...:   0%|          | 0/7 [00:00<?, ?it/s]"
      ]
     },
     "metadata": {},
     "output_type": "display_data"
    },
    {
     "name": "stdout",
     "output_type": "stream",
     "text": [
      "It looks like you are running Gradio on a hosted Jupyter notebook, which requires `share=True`. Automatically setting `share=True` (you can turn this off by setting `share=False` in `launch()` explicitly).\n",
      "\n",
      "Colab notebook detected. To show errors in colab notebook, set debug=True in launch()\n",
      "* Running on public URL: https://566b65903df9874f5e.gradio.live\n",
      "\n",
      "This share link expires in 1 week. For free permanent hosting and GPU upgrades, run `gradio deploy` from the terminal in the working directory to deploy to Hugging Face Spaces (https://huggingface.co/spaces)\n"
     ]
    },
    {
     "data": {
      "text/html": [
       "<div><iframe src=\"https://566b65903df9874f5e.gradio.live\" width=\"100%\" height=\"500\" allow=\"autoplay; camera; microphone; clipboard-read; clipboard-write;\" frameborder=\"0\" allowfullscreen></iframe></div>"
      ],
      "text/plain": [
       "<IPython.core.display.HTML object>"
      ]
     },
     "metadata": {},
     "output_type": "display_data"
    },
    {
     "data": {
      "text/plain": []
     },
     "execution_count": 1,
     "metadata": {},
     "output_type": "execute_result"
    }
   ],
   "source": [
    "import gradio as gr\n",
    "from diffusers import StableDiffusionXLPipeline, EulerDiscreteScheduler\n",
    "import torch\n",
    "\n",
    "model_id = \"stabilityai/stable-diffusion-xl-base-1.0\"\n",
    "\n",
    "\n",
    "scheduler = EulerDiscreteScheduler.from_pretrained(model_id, subfolder=\"scheduler\")\n",
    "pipe = StableDiffusionXLPipeline.from_pretrained(model_id, scheduler=scheduler, torch_dtype=torch.float16)\n",
    "pipe = pipe.to(\"cuda\")\n",
    "\n",
    "#Define Image Generation\n",
    "def generated_image(prompt):\n",
    "    image = pipe(prompt).images[0]\n",
    "    return image\n",
    "\n",
    "gr.Interface(\n",
    "    fn=generated_image,\n",
    "    inputs=gr.Textbox(label=\"Enter your prompt\"),\n",
    "    outputs=gr.Image(type=\"pil\"),\n",
    "    title=\"Stable Diffusion 2.1 - YASHWANTH KUMAR IMAGE GENERATOR APP\",\n",
    "    description=\"Enter text prompt and see the generated image\"\n",
    ").launch()"
   ]
  },
  {
   "cell_type": "code",
   "execution_count": null,
   "metadata": {
    "id": "rTf_v8uuyH-U"
   },
   "outputs": [],
   "source": []
  }
 ],
 "metadata": {
  "accelerator": "GPU",
  "colab": {
   "authorship_tag": "ABX9TyNGrFgeitz6pAm/GQ+yw4vN",
   "gpuType": "T4",
   "mount_file_id": "1op8yPlW0_51WJV39DCFBonfOVYLACN6k",
   "provenance": []
  },
  "kernelspec": {
   "display_name": "Python 3",
   "name": "python3"
  },
  "language_info": {
   "name": "python"
  }
 },
 "nbformat": 4,
 "nbformat_minor": 0
}
