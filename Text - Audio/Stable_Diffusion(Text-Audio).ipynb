{
 "cells": [
  {
   "cell_type": "markdown",
   "metadata": {
    "id": "Swzt5xvOGtYL"
   },
   "source": [
    "# 🎧 Text-to-Audio Generation with Stable Diffusion\n",
    "\n",
    "This notebook demonstrates how to generate high-quality **audio from text prompts** using the `StableAudioPipeline` from [Stability AI](https://stability.ai/) via Hugging Face's 🤗 `diffusers` library.\n",
    "\n",
    "---\n",
    "\n",
    "## 📌 What This Notebook Does\n",
    "\n",
    "- Authenticates with Hugging Face to access pre-trained models\n",
    "- Installs required dependencies (`diffusers`, `torchsde`, etc.)\n",
    "- Loads the `stable-audio-open-1.0` model\n",
    "- Accepts a **text prompt** and generates a **10-second audio clip**\n",
    "- Saves the audio as a `.wav` file locally\n",
    "\n",
    "---\n",
    "\n",
    "## 🧪 Example Prompt\n",
    "\n",
    "```python\n",
    "prompt = \"Baby crying with louder noise.\"\n",
    "negative_prompt = \"Low quality.\"\n"
   ]
  },
  {
   "cell_type": "markdown",
   "metadata": {
    "id": "9zxUmgpwIHSc"
   },
   "source": [
    "### 🔹 Step 1: Check GPU Availability\n",
    "Make sure a GPU is available for fast inference."
   ]
  },
  {
   "cell_type": "code",
   "execution_count": 1,
   "metadata": {
    "colab": {
     "base_uri": "https://localhost:8080/"
    },
    "executionInfo": {
     "elapsed": 128,
     "status": "ok",
     "timestamp": 1753519024589,
     "user": {
      "displayName": "Yashwanth Kumar",
      "userId": "04073106945765763472"
     },
     "user_tz": -330
    },
    "id": "Xr6HJgUL9sqk",
    "outputId": "644788f9-4feb-4dde-d203-1f17321f10b6"
   },
   "outputs": [
    {
     "name": "stdout",
     "output_type": "stream",
     "text": [
      "Sat Jul 26 08:37:03 2025       \n",
      "+-----------------------------------------------------------------------------------------+\n",
      "| NVIDIA-SMI 550.54.15              Driver Version: 550.54.15      CUDA Version: 12.4     |\n",
      "|-----------------------------------------+------------------------+----------------------+\n",
      "| GPU  Name                 Persistence-M | Bus-Id          Disp.A | Volatile Uncorr. ECC |\n",
      "| Fan  Temp   Perf          Pwr:Usage/Cap |           Memory-Usage | GPU-Util  Compute M. |\n",
      "|                                         |                        |               MIG M. |\n",
      "|=========================================+========================+======================|\n",
      "|   0  Tesla T4                       Off |   00000000:00:04.0 Off |                    0 |\n",
      "| N/A   40C    P8              9W /   70W |       0MiB /  15360MiB |      0%      Default |\n",
      "|                                         |                        |                  N/A |\n",
      "+-----------------------------------------+------------------------+----------------------+\n",
      "                                                                                         \n",
      "+-----------------------------------------------------------------------------------------+\n",
      "| Processes:                                                                              |\n",
      "|  GPU   GI   CI        PID   Type   Process name                              GPU Memory |\n",
      "|        ID   ID                                                               Usage      |\n",
      "|=========================================================================================|\n",
      "|  No running processes found                                                             |\n",
      "+-----------------------------------------------------------------------------------------+\n"
     ]
    }
   ],
   "source": [
    "!nvidia-smi"
   ]
  },
  {
   "cell_type": "markdown",
   "metadata": {
    "id": "_fwC3ho6IRUZ"
   },
   "source": [
    "🔹 Step 2: Login to Hugging Face\n",
    "\n",
    "Login to access pre-trained models."
   ]
  },
  {
   "cell_type": "code",
   "execution_count": 2,
   "metadata": {
    "colab": {
     "base_uri": "https://localhost:8080/",
     "height": 17,
     "referenced_widgets": [
      "27aec87abf1b4624a9ff95c153d90a17",
      "421bc1b5363b4192accdc3ea8a462cdb",
      "2974f7b6e8a84c3b9e9d2fab0ed57e33",
      "f6ad98d1642c43328ac36979e36d8951",
      "a3d36e9e3b324042aa291ec5e96529e7",
      "bbcbe31602fe47dbaa7ed31e4a82a676",
      "21893fefde584ad698b9d00446f71eef",
      "76f86fb7eddd49a6a5dbca7b52a11b1d",
      "0f9e35cc77064ce198371af2cd83e322",
      "bbd788fe1c284bd8b7337832ee64a98b",
      "d908bb4f27e0443a894d500a216c4d6a",
      "476e58c8b6ae4fc4bf7c70927030d069",
      "c2c14fe2808141d2ba794c214b66e5b2",
      "28178b96a7fa49f49ea04eaa2fe85ae8",
      "5b071a90d204403eb0a19e5c7cfc3f0b",
      "6c690babbf904d8b9d67d390b5566aac",
      "f23d03a68fa04e5d976885d407b79e81",
      "a3e5f8b9715647c4a29e7e8418d56ba7",
      "a45f6c037ecf45d2aa001b0830500d26",
      "4567279edfc14e4ba62b3b045fdaee3f"
     ]
    },
    "executionInfo": {
     "elapsed": 582,
     "status": "ok",
     "timestamp": 1753519040456,
     "user": {
      "displayName": "Yashwanth Kumar",
      "userId": "04073106945765763472"
     },
     "user_tz": -330
    },
    "id": "rZKZdrbSrRI8",
    "outputId": "115344ec-179d-4176-a04a-343e4b3b3453"
   },
   "outputs": [
    {
     "data": {
      "application/vnd.jupyter.widget-view+json": {
       "model_id": "27aec87abf1b4624a9ff95c153d90a17",
       "version_major": 2,
       "version_minor": 0
      },
      "text/plain": [
       "VBox(children=(HTML(value='<center> <img\\nsrc=https://huggingface.co/front/assets/huggingface_logo-noborder.sv…"
      ]
     },
     "metadata": {},
     "output_type": "display_data"
    }
   ],
   "source": [
    "from huggingface_hub import notebook_login\n",
    "notebook_login()"
   ]
  },
  {
   "cell_type": "markdown",
   "metadata": {
    "id": "eribNpsvIaP2"
   },
   "source": [
    "🔹 Step 3: Install Required Libraries\n",
    "\n",
    "Install everything needed, including Gradio."
   ]
  },
  {
   "cell_type": "code",
   "execution_count": 3,
   "metadata": {
    "colab": {
     "base_uri": "https://localhost:8080/"
    },
    "executionInfo": {
     "elapsed": 6827,
     "status": "ok",
     "timestamp": 1753519054798,
     "user": {
      "displayName": "Yashwanth Kumar",
      "userId": "04073106945765763472"
     },
     "user_tz": -330
    },
    "id": "OeGPe6cKv_fc",
    "outputId": "384511f2-db0e-44d9-ca0e-2227558a02e2"
   },
   "outputs": [
    {
     "name": "stdout",
     "output_type": "stream",
     "text": [
      "Requirement already satisfied: torchsde in /usr/local/lib/python3.11/dist-packages (0.2.6)\n",
      "Requirement already satisfied: numpy>=1.19 in /usr/local/lib/python3.11/dist-packages (from torchsde) (2.0.2)\n",
      "Requirement already satisfied: scipy>=1.5 in /usr/local/lib/python3.11/dist-packages (from torchsde) (1.16.0)\n",
      "Requirement already satisfied: torch>=1.6.0 in /usr/local/lib/python3.11/dist-packages (from torchsde) (2.6.0+cu124)\n",
      "Requirement already satisfied: trampoline>=0.1.2 in /usr/local/lib/python3.11/dist-packages (from torchsde) (0.1.2)\n",
      "Requirement already satisfied: filelock in /usr/local/lib/python3.11/dist-packages (from torch>=1.6.0->torchsde) (3.18.0)\n",
      "Requirement already satisfied: typing-extensions>=4.10.0 in /usr/local/lib/python3.11/dist-packages (from torch>=1.6.0->torchsde) (4.14.1)\n",
      "Requirement already satisfied: networkx in /usr/local/lib/python3.11/dist-packages (from torch>=1.6.0->torchsde) (3.5)\n",
      "Requirement already satisfied: jinja2 in /usr/local/lib/python3.11/dist-packages (from torch>=1.6.0->torchsde) (3.1.6)\n",
      "Requirement already satisfied: fsspec in /usr/local/lib/python3.11/dist-packages (from torch>=1.6.0->torchsde) (2025.3.0)\n",
      "Requirement already satisfied: nvidia-cuda-nvrtc-cu12==12.4.127 in /usr/local/lib/python3.11/dist-packages (from torch>=1.6.0->torchsde) (12.4.127)\n",
      "Requirement already satisfied: nvidia-cuda-runtime-cu12==12.4.127 in /usr/local/lib/python3.11/dist-packages (from torch>=1.6.0->torchsde) (12.4.127)\n",
      "Requirement already satisfied: nvidia-cuda-cupti-cu12==12.4.127 in /usr/local/lib/python3.11/dist-packages (from torch>=1.6.0->torchsde) (12.4.127)\n",
      "Requirement already satisfied: nvidia-cudnn-cu12==9.1.0.70 in /usr/local/lib/python3.11/dist-packages (from torch>=1.6.0->torchsde) (9.1.0.70)\n",
      "Requirement already satisfied: nvidia-cublas-cu12==12.4.5.8 in /usr/local/lib/python3.11/dist-packages (from torch>=1.6.0->torchsde) (12.4.5.8)\n",
      "Requirement already satisfied: nvidia-cufft-cu12==11.2.1.3 in /usr/local/lib/python3.11/dist-packages (from torch>=1.6.0->torchsde) (11.2.1.3)\n",
      "Requirement already satisfied: nvidia-curand-cu12==10.3.5.147 in /usr/local/lib/python3.11/dist-packages (from torch>=1.6.0->torchsde) (10.3.5.147)\n",
      "Requirement already satisfied: nvidia-cusolver-cu12==11.6.1.9 in /usr/local/lib/python3.11/dist-packages (from torch>=1.6.0->torchsde) (11.6.1.9)\n",
      "Requirement already satisfied: nvidia-cusparse-cu12==12.3.1.170 in /usr/local/lib/python3.11/dist-packages (from torch>=1.6.0->torchsde) (12.3.1.170)\n",
      "Requirement already satisfied: nvidia-cusparselt-cu12==0.6.2 in /usr/local/lib/python3.11/dist-packages (from torch>=1.6.0->torchsde) (0.6.2)\n",
      "Requirement already satisfied: nvidia-nccl-cu12==2.21.5 in /usr/local/lib/python3.11/dist-packages (from torch>=1.6.0->torchsde) (2.21.5)\n",
      "Requirement already satisfied: nvidia-nvtx-cu12==12.4.127 in /usr/local/lib/python3.11/dist-packages (from torch>=1.6.0->torchsde) (12.4.127)\n",
      "Requirement already satisfied: nvidia-nvjitlink-cu12==12.4.127 in /usr/local/lib/python3.11/dist-packages (from torch>=1.6.0->torchsde) (12.4.127)\n",
      "Requirement already satisfied: triton==3.2.0 in /usr/local/lib/python3.11/dist-packages (from torch>=1.6.0->torchsde) (3.2.0)\n",
      "Requirement already satisfied: sympy==1.13.1 in /usr/local/lib/python3.11/dist-packages (from torch>=1.6.0->torchsde) (1.13.1)\n",
      "Requirement already satisfied: mpmath<1.4,>=1.1.0 in /usr/local/lib/python3.11/dist-packages (from sympy==1.13.1->torch>=1.6.0->torchsde) (1.3.0)\n",
      "Requirement already satisfied: MarkupSafe>=2.0 in /usr/local/lib/python3.11/dist-packages (from jinja2->torch>=1.6.0->torchsde) (3.0.2)\n"
     ]
    }
   ],
   "source": [
    "!pip install torchsde"
   ]
  },
  {
   "cell_type": "code",
   "execution_count": 4,
   "metadata": {
    "colab": {
     "base_uri": "https://localhost:8080/"
    },
    "executionInfo": {
     "elapsed": 4164,
     "status": "ok",
     "timestamp": 1753519064286,
     "user": {
      "displayName": "Yashwanth Kumar",
      "userId": "04073106945765763472"
     },
     "user_tz": -330
    },
    "id": "-7uWOcQHrZzB",
    "outputId": "f15b9aea-5cbf-4f6a-b9af-c373ddb11404"
   },
   "outputs": [
    {
     "name": "stdout",
     "output_type": "stream",
     "text": [
      "Requirement already satisfied: diffusers in /usr/local/lib/python3.11/dist-packages (0.34.0)\n",
      "Requirement already satisfied: importlib_metadata in /usr/local/lib/python3.11/dist-packages (from diffusers) (8.7.0)\n",
      "Requirement already satisfied: filelock in /usr/local/lib/python3.11/dist-packages (from diffusers) (3.18.0)\n",
      "Requirement already satisfied: huggingface-hub>=0.27.0 in /usr/local/lib/python3.11/dist-packages (from diffusers) (0.33.4)\n",
      "Requirement already satisfied: numpy in /usr/local/lib/python3.11/dist-packages (from diffusers) (2.0.2)\n",
      "Requirement already satisfied: regex!=2019.12.17 in /usr/local/lib/python3.11/dist-packages (from diffusers) (2024.11.6)\n",
      "Requirement already satisfied: requests in /usr/local/lib/python3.11/dist-packages (from diffusers) (2.32.3)\n",
      "Requirement already satisfied: safetensors>=0.3.1 in /usr/local/lib/python3.11/dist-packages (from diffusers) (0.5.3)\n",
      "Requirement already satisfied: Pillow in /usr/local/lib/python3.11/dist-packages (from diffusers) (11.3.0)\n",
      "Requirement already satisfied: fsspec>=2023.5.0 in /usr/local/lib/python3.11/dist-packages (from huggingface-hub>=0.27.0->diffusers) (2025.3.0)\n",
      "Requirement already satisfied: packaging>=20.9 in /usr/local/lib/python3.11/dist-packages (from huggingface-hub>=0.27.0->diffusers) (25.0)\n",
      "Requirement already satisfied: pyyaml>=5.1 in /usr/local/lib/python3.11/dist-packages (from huggingface-hub>=0.27.0->diffusers) (6.0.2)\n",
      "Requirement already satisfied: tqdm>=4.42.1 in /usr/local/lib/python3.11/dist-packages (from huggingface-hub>=0.27.0->diffusers) (4.67.1)\n",
      "Requirement already satisfied: typing-extensions>=3.7.4.3 in /usr/local/lib/python3.11/dist-packages (from huggingface-hub>=0.27.0->diffusers) (4.14.1)\n",
      "Requirement already satisfied: hf-xet<2.0.0,>=1.1.2 in /usr/local/lib/python3.11/dist-packages (from huggingface-hub>=0.27.0->diffusers) (1.1.5)\n",
      "Requirement already satisfied: zipp>=3.20 in /usr/local/lib/python3.11/dist-packages (from importlib_metadata->diffusers) (3.23.0)\n",
      "Requirement already satisfied: charset-normalizer<4,>=2 in /usr/local/lib/python3.11/dist-packages (from requests->diffusers) (3.4.2)\n",
      "Requirement already satisfied: idna<4,>=2.5 in /usr/local/lib/python3.11/dist-packages (from requests->diffusers) (3.10)\n",
      "Requirement already satisfied: urllib3<3,>=1.21.1 in /usr/local/lib/python3.11/dist-packages (from requests->diffusers) (2.5.0)\n",
      "Requirement already satisfied: certifi>=2017.4.17 in /usr/local/lib/python3.11/dist-packages (from requests->diffusers) (2025.7.14)\n"
     ]
    }
   ],
   "source": [
    "!pip install -U diffusers"
   ]
  },
  {
   "cell_type": "markdown",
   "metadata": {
    "id": "vv96zRaPIgdJ"
   },
   "source": [
    "🔹 Step 4: Load the Stable Audio Model\n",
    "Load the stable-audio-open-1.0 model from Hugging Face.\n",
    "\n",
    "🔹 Step 5: Define a Prompt\n",
    "Specify the text input for the audio you want to generate.\n",
    "\n",
    "🔹 Step 6: Generate the Audio\n",
    "Run the diffusion model with a fixed seed for reproducibility.\n",
    "\n",
    "🔹 Step 7: Save the Audio File\n",
    "Convert the generated tensor into a .wav file."
   ]
  },
  {
   "cell_type": "code",
   "execution_count": 5,
   "metadata": {
    "colab": {
     "base_uri": "https://localhost:8080/",
     "height": 475,
     "referenced_widgets": [
      "3098571969064b75bc2afdadbab01da7",
      "231fdc3a212443ad9a7011302bb69db0",
      "34686730547248ce918181e98a72ed5d",
      "cf3e867f2df0432a8d83db9ac15bf1a6",
      "6d943c3c25d549ae92d0a9381aa0fa31",
      "f7f242be4da34c5d8af5820abf86137a",
      "bc6fe90a858d4d6cb6a6456bbdb4e4c2",
      "bdbc44fd688e442e87d74ceeb4745ec1",
      "bc42e64866474d65a500dca1197d02be",
      "ecf63cb77af144bcad81007bf8f887d1",
      "8b56fa4aa2a446dcba4fc73264a8b501",
      "81152ce8f7db4bd0989eabe565db243f",
      "5a16b42a2edd4af088379141af1f5a94",
      "44f8440b7fd84b28b0dc4f8567b53a01",
      "cb37a3e5652649edb0a1677f37a9e9e7",
      "fc3856e990404b3eb4d91b78a570284d",
      "d491f7756eed40998c0623e74a39f2d1",
      "e9b6237f20464c508465de0cdc93d2ef",
      "8e0482def0af410cbb2e6972e3e297aa",
      "297b4d73f3004561ab050a75d85d040d",
      "54fe0afdd66d4cc296ce38af638d3002",
      "73392149e43c42e5b4b1b1f8bdd2c482",
      "33f575454c0a4faa9c55228f2ce7febe",
      "d031175fd1414e10a6a020ff135d064c",
      "85dea0589a3346c2b45a039594338c65",
      "4afff5d8e33a403790667edccfe5156a",
      "7a9017ae23e84c24a7052ed1bf630a51",
      "9e041fc710124f4b8ceedacaade9f165",
      "055cec3e569447a5bb19283ac272ec50",
      "9793d04908234ea491cef580e0b80aff",
      "2a089c5148694bd3b098067aea45adae",
      "5da37ed9ec084d71a83353db0ab1f0aa",
      "2a80adad0a4b4ed4a55b20ac885fc685",
      "86de4768523148fe964213b202dbe6aa",
      "be9dbf79ed5c4a5f8fbbe530a659dbc0",
      "d98d127d4f5445b18c4da5f58b8301d1",
      "27da309f631f47da8ed56d050c8c7c9f",
      "05e83bf06dbb43e8bac2c589a6294738",
      "3acda5b8cd8644e59179a6322f4666b4",
      "d0d364ca2d8147119c7ea6502ad73b91",
      "9e30675fcbf8488bb0a05415d1380138",
      "a0b8cfdea26642e588787bb0419c65ed",
      "a955a23b5a164235a78a459796d6a8c2",
      "f05beb154a2748a5ae814a09d252224d",
      "2b282db699d44f8a9feafe254a5511b5",
      "0062c3b105fb4a4ca69c443b954c90b4",
      "9d744ec8329643c6ac9e796cc3d1abdd",
      "d98066dfb83144a989ab78ebb0a557c2",
      "a009f15305d64154bb93259454fdaea5",
      "f132ed2d87184304ab9dc2af7189262d",
      "aa4fad62e0974bef8e3815c0d727aa13",
      "ac6764c27cb64a44ac5c063e5884ee6a",
      "bf195a9d3cee4c4bbe5af3cf1e46281b",
      "2279cdba050140218804e6d56e852941",
      "4b12c9200aaf42f2a1dbadf1f6aceeb2"
     ]
    },
    "executionInfo": {
     "elapsed": 351249,
     "status": "ok",
     "timestamp": 1753519420519,
     "user": {
      "displayName": "Yashwanth Kumar",
      "userId": "04073106945765763472"
     },
     "user_tz": -330
    },
    "id": "L-GSSXPcraBT",
    "outputId": "a19d62fa-cd8b-4436-f511-f9c7444a3585"
   },
   "outputs": [
    {
     "name": "stderr",
     "output_type": "stream",
     "text": [
      "/usr/local/lib/python3.11/dist-packages/huggingface_hub/utils/_auth.py:94: UserWarning: \n",
      "The secret `HF_TOKEN` does not exist in your Colab secrets.\n",
      "To authenticate with the Hugging Face Hub, create a token in your settings tab (https://huggingface.co/settings/tokens), set it as secret in your Google Colab and restart your session.\n",
      "You will be able to reuse this secret in all of your notebooks.\n",
      "Please note that authentication is recommended but still optional to access public models or datasets.\n",
      "  warnings.warn(\n"
     ]
    },
    {
     "data": {
      "application/vnd.jupyter.widget-view+json": {
       "model_id": "3098571969064b75bc2afdadbab01da7",
       "version_major": 2,
       "version_minor": 0
      },
      "text/plain": [
       "Fetching 15 files:   0%|          | 0/15 [00:00<?, ?it/s]"
      ]
     },
     "metadata": {},
     "output_type": "display_data"
    },
    {
     "data": {
      "application/vnd.jupyter.widget-view+json": {
       "model_id": "81152ce8f7db4bd0989eabe565db243f",
       "version_major": 2,
       "version_minor": 0
      },
      "text/plain": [
       "transformer/diffusion_pytorch_model.safe(…):   0%|          | 0.00/4.23G [00:00<?, ?B/s]"
      ]
     },
     "metadata": {},
     "output_type": "display_data"
    },
    {
     "data": {
      "application/vnd.jupyter.widget-view+json": {
       "model_id": "33f575454c0a4faa9c55228f2ce7febe",
       "version_major": 2,
       "version_minor": 0
      },
      "text/plain": [
       "model.safetensors:   0%|          | 0.00/4.85G [00:00<?, ?B/s]"
      ]
     },
     "metadata": {},
     "output_type": "display_data"
    },
    {
     "data": {
      "application/vnd.jupyter.widget-view+json": {
       "model_id": "86de4768523148fe964213b202dbe6aa",
       "version_major": 2,
       "version_minor": 0
      },
      "text/plain": [
       "Loading pipeline components...:   0%|          | 0/6 [00:00<?, ?it/s]"
      ]
     },
     "metadata": {},
     "output_type": "display_data"
    },
    {
     "name": "stderr",
     "output_type": "stream",
     "text": [
      "/usr/local/lib/python3.11/dist-packages/torch/nn/utils/weight_norm.py:143: FutureWarning: `torch.nn.utils.weight_norm` is deprecated in favor of `torch.nn.utils.parametrizations.weight_norm`.\n",
      "  WeightNorm.apply(module, name, dim)\n"
     ]
    },
    {
     "data": {
      "application/vnd.jupyter.widget-view+json": {
       "model_id": "2b282db699d44f8a9feafe254a5511b5",
       "version_major": 2,
       "version_minor": 0
      },
      "text/plain": [
       "  0%|          | 0/200 [00:00<?, ?it/s]"
      ]
     },
     "metadata": {},
     "output_type": "display_data"
    },
    {
     "name": "stderr",
     "output_type": "stream",
     "text": [
      "/usr/local/lib/python3.11/dist-packages/torchsde/_brownian/brownian_interval.py:608: UserWarning: Should have tb<=t1 but got tb=500.00006103515625 and t1=500.0.\n",
      "  warnings.warn(f\"Should have {tb_name}<=t1 but got {tb_name}={tb} and t1={self._end}.\")\n",
      "/usr/local/lib/python3.11/dist-packages/torchsde/_brownian/brownian_interval.py:599: UserWarning: Should have ta>=t0 but got ta=0.29999998211860657 and t0=0.3.\n",
      "  warnings.warn(f\"Should have ta>=t0 but got ta={ta} and t0={self._start}.\")\n",
      "/usr/local/lib/python3.11/dist-packages/torchsde/_brownian/brownian_interval.py:599: UserWarning: Should have ta>=t0 but got ta=0.0 and t0=0.3.\n",
      "  warnings.warn(f\"Should have ta>=t0 but got ta={ta} and t0={self._start}.\")\n",
      "/usr/local/lib/python3.11/dist-packages/torchsde/_brownian/brownian_interval.py:602: UserWarning: Should have tb>=t0 but got tb=0.29999998211860657 and t0=0.3.\n",
      "  warnings.warn(f\"Should have {tb_name}>=t0 but got {tb_name}={tb} and t0={self._start}.\")\n"
     ]
    }
   ],
   "source": [
    "import torch\n",
    "import soundfile as sf\n",
    "from diffusers import StableAudioPipeline\n",
    "\n",
    "# Load the stable-audio-open-1.0 model\n",
    "pipe = StableAudioPipeline.from_pretrained(\"stabilityai/stable-audio-open-1.0\", torch_dtype=torch.float16)\n",
    "pipe = pipe.to(\"cuda\")\n",
    "\n",
    "# Define the Prompts\n",
    "prompt = \"Baby crying with Louder Noise.\"\n",
    "negative_prompt = \"Low quality.\"\n",
    "\n",
    "# set the seed for generator\n",
    "generator = torch.Generator(\"cuda\").manual_seed(0)\n",
    "\n",
    "# Generate the Audio\n",
    "audio = pipe(\n",
    "    prompt,\n",
    "    negative_prompt=negative_prompt,\n",
    "    num_inference_steps=200,\n",
    "    audio_end_in_s=10.0,\n",
    "    num_waveforms_per_prompt=3,\n",
    "    generator=generator,\n",
    ").audios\n",
    "\n",
    "#Save the Audio File\n",
    "output = audio[0].T.float().cpu().numpy()\n",
    "sf.write(\"Baby Crying.wav\", output, pipe.vae.sampling_rate)"
   ]
  },
  {
   "cell_type": "markdown",
   "metadata": {
    "id": "2p19WmwtItWm"
   },
   "source": [
    "🔹 Step 8: 🎛️ Add Gradio Interface\n",
    "\n",
    "Create a simple web UI to input text and generate audio."
   ]
  },
  {
   "cell_type": "code",
   "execution_count": 6,
   "metadata": {
    "colab": {
     "base_uri": "https://localhost:8080/"
    },
    "executionInfo": {
     "elapsed": 8667,
     "status": "ok",
     "timestamp": 1753519483130,
     "user": {
      "displayName": "Yashwanth Kumar",
      "userId": "04073106945765763472"
     },
     "user_tz": -330
    },
    "id": "6eXAc5fQraDQ",
    "outputId": "3cff55d2-f672-4032-ce89-1001f608aa3a"
   },
   "outputs": [
    {
     "name": "stdout",
     "output_type": "stream",
     "text": [
      "Requirement already satisfied: gradio in /usr/local/lib/python3.11/dist-packages (5.38.1)\n",
      "Requirement already satisfied: aiofiles<25.0,>=22.0 in /usr/local/lib/python3.11/dist-packages (from gradio) (24.1.0)\n",
      "Requirement already satisfied: anyio<5.0,>=3.0 in /usr/local/lib/python3.11/dist-packages (from gradio) (4.9.0)\n",
      "Requirement already satisfied: brotli>=1.1.0 in /usr/local/lib/python3.11/dist-packages (from gradio) (1.1.0)\n",
      "Requirement already satisfied: fastapi<1.0,>=0.115.2 in /usr/local/lib/python3.11/dist-packages (from gradio) (0.116.1)\n",
      "Requirement already satisfied: ffmpy in /usr/local/lib/python3.11/dist-packages (from gradio) (0.6.1)\n",
      "Requirement already satisfied: gradio-client==1.11.0 in /usr/local/lib/python3.11/dist-packages (from gradio) (1.11.0)\n",
      "Requirement already satisfied: groovy~=0.1 in /usr/local/lib/python3.11/dist-packages (from gradio) (0.1.2)\n",
      "Requirement already satisfied: httpx<1.0,>=0.24.1 in /usr/local/lib/python3.11/dist-packages (from gradio) (0.28.1)\n",
      "Requirement already satisfied: huggingface-hub>=0.28.1 in /usr/local/lib/python3.11/dist-packages (from gradio) (0.33.4)\n",
      "Requirement already satisfied: jinja2<4.0 in /usr/local/lib/python3.11/dist-packages (from gradio) (3.1.6)\n",
      "Requirement already satisfied: markupsafe<4.0,>=2.0 in /usr/local/lib/python3.11/dist-packages (from gradio) (3.0.2)\n",
      "Requirement already satisfied: numpy<3.0,>=1.0 in /usr/local/lib/python3.11/dist-packages (from gradio) (2.0.2)\n",
      "Requirement already satisfied: orjson~=3.0 in /usr/local/lib/python3.11/dist-packages (from gradio) (3.11.0)\n",
      "Requirement already satisfied: packaging in /usr/local/lib/python3.11/dist-packages (from gradio) (25.0)\n",
      "Requirement already satisfied: pandas<3.0,>=1.0 in /usr/local/lib/python3.11/dist-packages (from gradio) (2.2.2)\n",
      "Requirement already satisfied: pillow<12.0,>=8.0 in /usr/local/lib/python3.11/dist-packages (from gradio) (11.3.0)\n",
      "Requirement already satisfied: pydantic<2.12,>=2.0 in /usr/local/lib/python3.11/dist-packages (from gradio) (2.11.7)\n",
      "Requirement already satisfied: pydub in /usr/local/lib/python3.11/dist-packages (from gradio) (0.25.1)\n",
      "Requirement already satisfied: python-multipart>=0.0.18 in /usr/local/lib/python3.11/dist-packages (from gradio) (0.0.20)\n",
      "Requirement already satisfied: pyyaml<7.0,>=5.0 in /usr/local/lib/python3.11/dist-packages (from gradio) (6.0.2)\n",
      "Requirement already satisfied: ruff>=0.9.3 in /usr/local/lib/python3.11/dist-packages (from gradio) (0.12.4)\n",
      "Requirement already satisfied: safehttpx<0.2.0,>=0.1.6 in /usr/local/lib/python3.11/dist-packages (from gradio) (0.1.6)\n",
      "Requirement already satisfied: semantic-version~=2.0 in /usr/local/lib/python3.11/dist-packages (from gradio) (2.10.0)\n",
      "Requirement already satisfied: starlette<1.0,>=0.40.0 in /usr/local/lib/python3.11/dist-packages (from gradio) (0.47.2)\n",
      "Requirement already satisfied: tomlkit<0.14.0,>=0.12.0 in /usr/local/lib/python3.11/dist-packages (from gradio) (0.13.3)\n",
      "Requirement already satisfied: typer<1.0,>=0.12 in /usr/local/lib/python3.11/dist-packages (from gradio) (0.16.0)\n",
      "Requirement already satisfied: typing-extensions~=4.0 in /usr/local/lib/python3.11/dist-packages (from gradio) (4.14.1)\n",
      "Requirement already satisfied: uvicorn>=0.14.0 in /usr/local/lib/python3.11/dist-packages (from gradio) (0.35.0)\n",
      "Requirement already satisfied: fsspec in /usr/local/lib/python3.11/dist-packages (from gradio-client==1.11.0->gradio) (2025.3.0)\n",
      "Requirement already satisfied: websockets<16.0,>=10.0 in /usr/local/lib/python3.11/dist-packages (from gradio-client==1.11.0->gradio) (15.0.1)\n",
      "Requirement already satisfied: idna>=2.8 in /usr/local/lib/python3.11/dist-packages (from anyio<5.0,>=3.0->gradio) (3.10)\n",
      "Requirement already satisfied: sniffio>=1.1 in /usr/local/lib/python3.11/dist-packages (from anyio<5.0,>=3.0->gradio) (1.3.1)\n",
      "Requirement already satisfied: certifi in /usr/local/lib/python3.11/dist-packages (from httpx<1.0,>=0.24.1->gradio) (2025.7.14)\n",
      "Requirement already satisfied: httpcore==1.* in /usr/local/lib/python3.11/dist-packages (from httpx<1.0,>=0.24.1->gradio) (1.0.9)\n",
      "Requirement already satisfied: h11>=0.16 in /usr/local/lib/python3.11/dist-packages (from httpcore==1.*->httpx<1.0,>=0.24.1->gradio) (0.16.0)\n",
      "Requirement already satisfied: filelock in /usr/local/lib/python3.11/dist-packages (from huggingface-hub>=0.28.1->gradio) (3.18.0)\n",
      "Requirement already satisfied: requests in /usr/local/lib/python3.11/dist-packages (from huggingface-hub>=0.28.1->gradio) (2.32.3)\n",
      "Requirement already satisfied: tqdm>=4.42.1 in /usr/local/lib/python3.11/dist-packages (from huggingface-hub>=0.28.1->gradio) (4.67.1)\n",
      "Requirement already satisfied: hf-xet<2.0.0,>=1.1.2 in /usr/local/lib/python3.11/dist-packages (from huggingface-hub>=0.28.1->gradio) (1.1.5)\n",
      "Requirement already satisfied: python-dateutil>=2.8.2 in /usr/local/lib/python3.11/dist-packages (from pandas<3.0,>=1.0->gradio) (2.9.0.post0)\n",
      "Requirement already satisfied: pytz>=2020.1 in /usr/local/lib/python3.11/dist-packages (from pandas<3.0,>=1.0->gradio) (2025.2)\n",
      "Requirement already satisfied: tzdata>=2022.7 in /usr/local/lib/python3.11/dist-packages (from pandas<3.0,>=1.0->gradio) (2025.2)\n",
      "Requirement already satisfied: annotated-types>=0.6.0 in /usr/local/lib/python3.11/dist-packages (from pydantic<2.12,>=2.0->gradio) (0.7.0)\n",
      "Requirement already satisfied: pydantic-core==2.33.2 in /usr/local/lib/python3.11/dist-packages (from pydantic<2.12,>=2.0->gradio) (2.33.2)\n",
      "Requirement already satisfied: typing-inspection>=0.4.0 in /usr/local/lib/python3.11/dist-packages (from pydantic<2.12,>=2.0->gradio) (0.4.1)\n",
      "Requirement already satisfied: click>=8.0.0 in /usr/local/lib/python3.11/dist-packages (from typer<1.0,>=0.12->gradio) (8.2.1)\n",
      "Requirement already satisfied: shellingham>=1.3.0 in /usr/local/lib/python3.11/dist-packages (from typer<1.0,>=0.12->gradio) (1.5.4)\n",
      "Requirement already satisfied: rich>=10.11.0 in /usr/local/lib/python3.11/dist-packages (from typer<1.0,>=0.12->gradio) (13.9.4)\n",
      "Requirement already satisfied: six>=1.5 in /usr/local/lib/python3.11/dist-packages (from python-dateutil>=2.8.2->pandas<3.0,>=1.0->gradio) (1.17.0)\n",
      "Requirement already satisfied: markdown-it-py>=2.2.0 in /usr/local/lib/python3.11/dist-packages (from rich>=10.11.0->typer<1.0,>=0.12->gradio) (3.0.0)\n",
      "Requirement already satisfied: pygments<3.0.0,>=2.13.0 in /usr/local/lib/python3.11/dist-packages (from rich>=10.11.0->typer<1.0,>=0.12->gradio) (2.19.2)\n",
      "Requirement already satisfied: charset-normalizer<4,>=2 in /usr/local/lib/python3.11/dist-packages (from requests->huggingface-hub>=0.28.1->gradio) (3.4.2)\n",
      "Requirement already satisfied: urllib3<3,>=1.21.1 in /usr/local/lib/python3.11/dist-packages (from requests->huggingface-hub>=0.28.1->gradio) (2.5.0)\n",
      "Requirement already satisfied: mdurl~=0.1 in /usr/local/lib/python3.11/dist-packages (from markdown-it-py>=2.2.0->rich>=10.11.0->typer<1.0,>=0.12->gradio) (0.1.2)\n"
     ]
    }
   ],
   "source": [
    "!pip install gradio"
   ]
  },
  {
   "cell_type": "code",
   "execution_count": 7,
   "metadata": {
    "colab": {
     "base_uri": "https://localhost:8080/",
     "height": 712,
     "referenced_widgets": [
      "591160bc05494f57ba0d301c85408d6b",
      "d01264acbf8345e19b71dce16a0966f9",
      "4802908e429449699b280c577a1a383b",
      "397d304d835d42dbbbf59b045b1a4e6a",
      "09cd9768108840aeb075b5f65119e13b",
      "eb06bd2cd54d459b985e4bdf6e22fdfa",
      "eafdd6f7c2dd43fbbdac7f3058833a70",
      "0c5ef5585af749fba65b5d28562fd01b",
      "9d1bec313f644df9bc46914e8b350eb4",
      "2ec48b4533304da0acf77a5c1e385a17",
      "27877a9bbca44107b0aaa86fc2d93c3c"
     ]
    },
    "executionInfo": {
     "elapsed": 31956,
     "status": "ok",
     "timestamp": 1753519517543,
     "user": {
      "displayName": "Yashwanth Kumar",
      "userId": "04073106945765763472"
     },
     "user_tz": -330
    },
    "id": "oH4JM-vDraGv",
    "outputId": "c186ce22-63f9-4a9e-9b1c-bb5ff03a02ef"
   },
   "outputs": [
    {
     "data": {
      "application/vnd.jupyter.widget-view+json": {
       "model_id": "591160bc05494f57ba0d301c85408d6b",
       "version_major": 2,
       "version_minor": 0
      },
      "text/plain": [
       "Loading pipeline components...:   0%|          | 0/6 [00:00<?, ?it/s]"
      ]
     },
     "metadata": {},
     "output_type": "display_data"
    },
    {
     "name": "stderr",
     "output_type": "stream",
     "text": [
      "/usr/local/lib/python3.11/dist-packages/torch/nn/utils/weight_norm.py:143: FutureWarning: `torch.nn.utils.weight_norm` is deprecated in favor of `torch.nn.utils.parametrizations.weight_norm`.\n",
      "  WeightNorm.apply(module, name, dim)\n"
     ]
    },
    {
     "name": "stdout",
     "output_type": "stream",
     "text": [
      "It looks like you are running Gradio on a hosted Jupyter notebook, which requires `share=True`. Automatically setting `share=True` (you can turn this off by setting `share=False` in `launch()` explicitly).\n",
      "\n",
      "Colab notebook detected. To show errors in colab notebook, set debug=True in launch()\n",
      "* Running on public URL: https://a63b88bffb7ae94a09.gradio.live\n",
      "\n",
      "This share link expires in 1 week. For free permanent hosting and GPU upgrades, run `gradio deploy` from the terminal in the working directory to deploy to Hugging Face Spaces (https://huggingface.co/spaces)\n"
     ]
    },
    {
     "data": {
      "text/html": [
       "<div><iframe src=\"https://a63b88bffb7ae94a09.gradio.live\" width=\"100%\" height=\"500\" allow=\"autoplay; camera; microphone; clipboard-read; clipboard-write;\" frameborder=\"0\" allowfullscreen></iframe></div>"
      ],
      "text/plain": [
       "<IPython.core.display.HTML object>"
      ]
     },
     "metadata": {},
     "output_type": "display_data"
    },
    {
     "data": {
      "text/plain": []
     },
     "execution_count": 7,
     "metadata": {},
     "output_type": "execute_result"
    }
   ],
   "source": [
    "import torch\n",
    "import soundfile as sf\n",
    "import numpy as np\n",
    "import gradio as gr\n",
    "from diffusers import StableAudioPipeline\n",
    "\n",
    "# Load the Stable Audio pipeline (only once)\n",
    "pipe = StableAudioPipeline.from_pretrained(\n",
    "    \"stabilityai/stable-audio-open-1.0\", torch_dtype=torch.float16\n",
    ")\n",
    "pipe = pipe.to(\"cuda\")\n",
    "\n",
    "# Function to generate audio\n",
    "def generate_audio(prompt, negative_prompt, duration, seed):\n",
    "    generator = torch.Generator(\"cuda\").manual_seed(int(seed))\n",
    "\n",
    "    result = pipe(\n",
    "        prompt=prompt,\n",
    "        negative_prompt=negative_prompt,\n",
    "        num_inference_steps=200,\n",
    "        audio_end_in_s=float(duration),\n",
    "        num_waveforms_per_prompt=1,\n",
    "        generator=generator\n",
    "    )\n",
    "\n",
    "    audio = result.audios[0].T.float().cpu().numpy()\n",
    "    file_path = \"output.wav\"\n",
    "    sf.write(file_path, audio, pipe.vae.sampling_rate)\n",
    "    return file_path\n",
    "\n",
    "# Gradio Interface\n",
    "interface = gr.Interface(\n",
    "    fn=generate_audio,\n",
    "    inputs=[\n",
    "        gr.Textbox(label=\"Prompt\", placeholder=\"e.g., A baby crying loudly\"),\n",
    "        gr.Textbox(label=\"Negative Prompt\", value=\"Low quality\"),\n",
    "        gr.Slider(2, 20, value=10, step=1, label=\"Duration (seconds)\"),\n",
    "        gr.Number(label=\"Seed\", value=42)\n",
    "    ],\n",
    "    outputs=gr.Audio(type=\"filepath\", label=\"Generated Audio\"),\n",
    "    title=\"🎧 Text-to-Audio using Stable Diffusion\",\n",
    "    description=\"Generate high-quality audio clips from text prompts using Stability AI's Stable Audio model.\",\n",
    ")\n",
    "\n",
    "interface.launch()\n"
   ]
  }
 ],
 "metadata": {
  "accelerator": "GPU",
  "colab": {
   "authorship_tag": "ABX9TyMZUwS/mpGskL9TuXrQQzGC",
   "gpuType": "T4",
   "mount_file_id": "1fmHzLew8e5UYByPJBCDz0wTmxXnz1L-1",
   "provenance": []
  },
  "kernelspec": {
   "display_name": "Python 3",
   "name": "python3"
  },
  "language_info": {
   "name": "python"
  }
 },
 "nbformat": 4,
 "nbformat_minor": 0
}
